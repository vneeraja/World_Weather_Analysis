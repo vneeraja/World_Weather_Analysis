{
 "cells": [
  {
   "cell_type": "code",
   "execution_count": 1,
   "id": "1b3471ca",
   "metadata": {},
   "outputs": [],
   "source": [
    "# Import the dependencies.\n",
    "import pandas as pd\n",
    "import matplotlib.pyplot as plt\n",
    "import numpy as np\n",
    "from citipy import citipy\n",
    "import requests\n",
    "import json\n",
    "import time\n",
    "from datetime import datetime\n",
    "from config import weather_api_key"
   ]
  },
  {
   "cell_type": "code",
   "execution_count": 2,
   "id": "b952865b",
   "metadata": {},
   "outputs": [
    {
     "data": {
      "text/plain": [
       "<zip at 0x2187e2ec8c8>"
      ]
     },
     "execution_count": 2,
     "metadata": {},
     "output_type": "execute_result"
    }
   ],
   "source": [
    "# Create a set of random latitude and longitude combinations.\n",
    "lats = np.random.uniform(-90, 90, size=1500)\n",
    "lngs = np.random.uniform(-180, 180, size=1500)\n",
    "\n",
    "# we'll pack the latitudes (lats) and longitudes (lngs) as pairs by zipping them (lat_lngs) with the zip() function.\n",
    "lats_lngs = zip(lats,lngs)\n",
    "lats_lngs"
   ]
  },
  {
   "cell_type": "code",
   "execution_count": 3,
   "id": "1c6334e6",
   "metadata": {},
   "outputs": [],
   "source": [
    "# Add the latitudes and longitudes to a list.\n",
    "coordinates = list(lats_lngs)\n"
   ]
  },
  {
   "cell_type": "code",
   "execution_count": 4,
   "id": "e00f4c74",
   "metadata": {},
   "outputs": [
    {
     "name": "stdout",
     "output_type": "stream",
     "text": [
      "597\n"
     ]
    }
   ],
   "source": [
    "# Use the print() function to display the latitude and longitude combinations.\n",
    "# Using CitiPy module, get the nearest city name and country code for the list of lats_lngs.\n",
    "# First, create a list to hold the cities.\n",
    "cities = []\n",
    "\n",
    "for coordinate in coordinates:\n",
    "\n",
    "    city = citipy.nearest_city(coordinate[0], coordinate[1]).city_name\n",
    "    \n",
    "    # If the city is unique, then we will add it to the cities list\n",
    "    if city not in cities:\n",
    "        cities.append(city)\n",
    "        \n",
    "print(len(cities))"
   ]
  },
  {
   "cell_type": "code",
   "execution_count": 5,
   "id": "b3bd9742",
   "metadata": {},
   "outputs": [],
   "source": [
    "# URL to make the API call and get the weather data.\n",
    "url = \"http://api.openweathermap.org/data/2.5/weather?units=Imperial&APPID=\" + weather_api_key"
   ]
  },
  {
   "cell_type": "code",
   "execution_count": 6,
   "id": "bac736f9",
   "metadata": {},
   "outputs": [
    {
     "name": "stdout",
     "output_type": "stream",
     "text": [
      "Beginning Data Retrieval\n",
      "------------------------\n",
      "Processing Record 1 of Set 1 | rikitea\n",
      "Processing Record 2 of Set 1 | raudeberg\n",
      "Processing Record 3 of Set 1 | tiksi\n",
      "Processing Record 4 of Set 1 | margate\n",
      "Processing Record 5 of Set 1 | hermanus\n",
      "Processing Record 6 of Set 1 | launceston\n",
      "Processing Record 7 of Set 1 | barrow\n",
      "Processing Record 8 of Set 1 | bluff\n",
      "Processing Record 9 of Set 1 | mar del plata\n",
      "Processing Record 10 of Set 1 | vardo\n",
      "Processing Record 11 of Set 1 | saint-philippe\n",
      "Processing Record 12 of Set 1 | upernavik\n",
      "Processing Record 13 of Set 1 | taolanaro\n",
      "City not found. Skipping...\n",
      "Processing Record 14 of Set 1 | ilulissat\n",
      "Processing Record 15 of Set 1 | ponta do sol\n",
      "Processing Record 16 of Set 1 | macusani\n",
      "Processing Record 17 of Set 1 | sakakah\n",
      "Processing Record 18 of Set 1 | carnarvon\n",
      "Processing Record 19 of Set 1 | sitka\n",
      "Processing Record 20 of Set 1 | pangnirtung\n",
      "Processing Record 21 of Set 1 | ushuaia\n",
      "Processing Record 22 of Set 1 | yambio\n",
      "Processing Record 23 of Set 1 | klaksvik\n",
      "Processing Record 24 of Set 1 | mahebourg\n",
      "Processing Record 25 of Set 1 | mehamn\n",
      "Processing Record 26 of Set 1 | busselton\n",
      "Processing Record 27 of Set 1 | luderitz\n",
      "Processing Record 28 of Set 1 | vaini\n",
      "Processing Record 29 of Set 1 | kloulklubed\n",
      "Processing Record 30 of Set 1 | puerto ayora\n",
      "Processing Record 31 of Set 1 | anadyr\n",
      "Processing Record 32 of Set 1 | mangrol\n",
      "Processing Record 33 of Set 1 | moron\n",
      "Processing Record 34 of Set 1 | rungata\n",
      "City not found. Skipping...\n",
      "Processing Record 35 of Set 1 | chipata\n",
      "Processing Record 36 of Set 1 | clyde river\n",
      "Processing Record 37 of Set 1 | albany\n",
      "Processing Record 38 of Set 1 | kodiak\n",
      "Processing Record 39 of Set 1 | port alfred\n",
      "Processing Record 40 of Set 1 | sorong\n",
      "Processing Record 41 of Set 1 | vanderhoof\n",
      "Processing Record 42 of Set 1 | atar\n",
      "Processing Record 43 of Set 1 | kruisfontein\n",
      "Processing Record 44 of Set 1 | atuona\n",
      "Processing Record 45 of Set 1 | along\n",
      "Processing Record 46 of Set 1 | provideniya\n",
      "Processing Record 47 of Set 1 | antalaha\n",
      "Processing Record 48 of Set 1 | arraial do cabo\n",
      "Processing Record 49 of Set 1 | torbay\n",
      "Processing Record 50 of Set 1 | cape town\n",
      "Processing Record 1 of Set 2 | punta arenas\n",
      "Processing Record 2 of Set 2 | jamestown\n",
      "Processing Record 3 of Set 2 | puerto colombia\n",
      "Processing Record 4 of Set 2 | broome\n",
      "Processing Record 5 of Set 2 | dryden\n",
      "Processing Record 6 of Set 2 | vaitupu\n",
      "City not found. Skipping...\n",
      "Processing Record 7 of Set 2 | alyangula\n",
      "Processing Record 8 of Set 2 | tazovskiy\n",
      "Processing Record 9 of Set 2 | chuy\n",
      "Processing Record 10 of Set 2 | grand gaube\n",
      "Processing Record 11 of Set 2 | khatanga\n",
      "Processing Record 12 of Set 2 | nanortalik\n",
      "Processing Record 13 of Set 2 | coihaique\n",
      "Processing Record 14 of Set 2 | saleaula\n",
      "City not found. Skipping...\n",
      "Processing Record 15 of Set 2 | kapaa\n",
      "Processing Record 16 of Set 2 | adrar\n",
      "Processing Record 17 of Set 2 | los llanos de aridane\n",
      "Processing Record 18 of Set 2 | bredasdorp\n",
      "Processing Record 19 of Set 2 | coolum beach\n",
      "Processing Record 20 of Set 2 | saint-augustin\n",
      "Processing Record 21 of Set 2 | kongolo\n",
      "Processing Record 22 of Set 2 | honningsvag\n",
      "Processing Record 23 of Set 2 | mys shmidta\n",
      "City not found. Skipping...\n",
      "Processing Record 24 of Set 2 | barentsburg\n",
      "City not found. Skipping...\n",
      "Processing Record 25 of Set 2 | yellowknife\n",
      "Processing Record 26 of Set 2 | bambous virieux\n",
      "Processing Record 27 of Set 2 | bathurst\n",
      "Processing Record 28 of Set 2 | nizhneyansk\n",
      "City not found. Skipping...\n",
      "Processing Record 29 of Set 2 | san juan del sur\n",
      "Processing Record 30 of Set 2 | panzhihua\n",
      "Processing Record 31 of Set 2 | castro\n",
      "Processing Record 32 of Set 2 | dikson\n",
      "Processing Record 33 of Set 2 | nikolskoye\n",
      "Processing Record 34 of Set 2 | inuvik\n",
      "Processing Record 35 of Set 2 | chulym\n",
      "Processing Record 36 of Set 2 | irece\n",
      "Processing Record 37 of Set 2 | ahipara\n",
      "Processing Record 38 of Set 2 | khorixas\n",
      "Processing Record 39 of Set 2 | salalah\n",
      "Processing Record 40 of Set 2 | beringovskiy\n",
      "Processing Record 41 of Set 2 | kaitangata\n",
      "Processing Record 42 of Set 2 | hithadhoo\n",
      "Processing Record 43 of Set 2 | saskylakh\n",
      "Processing Record 44 of Set 2 | severo-kurilsk\n",
      "Processing Record 45 of Set 2 | luwuk\n",
      "Processing Record 46 of Set 2 | paragominas\n",
      "Processing Record 47 of Set 2 | segezha\n",
      "Processing Record 48 of Set 2 | belushya guba\n",
      "City not found. Skipping...\n",
      "Processing Record 49 of Set 2 | fortuna\n",
      "Processing Record 50 of Set 2 | diego de almagro\n",
      "Processing Record 1 of Set 3 | husavik\n",
      "Processing Record 2 of Set 3 | pevek\n",
      "Processing Record 3 of Set 3 | vila velha\n",
      "Processing Record 4 of Set 3 | georgetown\n",
      "Processing Record 5 of Set 3 | scarborough\n",
      "Processing Record 6 of Set 3 | thaton\n",
      "Processing Record 7 of Set 3 | lebu\n",
      "Processing Record 8 of Set 3 | pilar\n",
      "Processing Record 9 of Set 3 | wanning\n",
      "Processing Record 10 of Set 3 | cuamba\n",
      "Processing Record 11 of Set 3 | hobart\n",
      "Processing Record 12 of Set 3 | biltine\n",
      "Processing Record 13 of Set 3 | mataura\n",
      "Processing Record 14 of Set 3 | strezhevoy\n",
      "Processing Record 15 of Set 3 | constitucion\n",
      "Processing Record 16 of Set 3 | sola\n",
      "Processing Record 17 of Set 3 | mamurras\n",
      "Processing Record 18 of Set 3 | port elizabeth\n",
      "Processing Record 19 of Set 3 | araouane\n",
      "Processing Record 20 of Set 3 | saint-pierre\n",
      "Processing Record 21 of Set 3 | hilo\n",
      "Processing Record 22 of Set 3 | bodden town\n",
      "Processing Record 23 of Set 3 | pisco\n",
      "Processing Record 24 of Set 3 | viedma\n",
      "Processing Record 25 of Set 3 | seoul\n",
      "Processing Record 26 of Set 3 | natal\n",
      "Processing Record 27 of Set 3 | bargal\n",
      "City not found. Skipping...\n",
      "Processing Record 28 of Set 3 | mahendranagar\n",
      "Processing Record 29 of Set 3 | qaanaaq\n",
      "Processing Record 30 of Set 3 | dao\n",
      "Processing Record 31 of Set 3 | vao\n",
      "Processing Record 32 of Set 3 | nantucket\n",
      "Processing Record 33 of Set 3 | makakilo city\n",
      "Processing Record 34 of Set 3 | tuktoyaktuk\n",
      "Processing Record 35 of Set 3 | norman wells\n",
      "Processing Record 36 of Set 3 | east london\n",
      "Processing Record 37 of Set 3 | cap malheureux\n",
      "Processing Record 38 of Set 3 | san luis\n",
      "Processing Record 39 of Set 3 | qaqortoq\n",
      "Processing Record 40 of Set 3 | saint anthony\n",
      "Processing Record 41 of Set 3 | beloha\n",
      "Processing Record 42 of Set 3 | kampot\n",
      "Processing Record 43 of Set 3 | butaritari\n",
      "Processing Record 44 of Set 3 | ngukurr\n",
      "City not found. Skipping...\n",
      "Processing Record 45 of Set 3 | balagansk\n",
      "Processing Record 46 of Set 3 | zyryanka\n",
      "Processing Record 47 of Set 3 | gotsu\n",
      "Processing Record 48 of Set 3 | assiniboia\n",
      "Processing Record 49 of Set 3 | soyo\n",
      "Processing Record 50 of Set 3 | new norfolk\n",
      "Processing Record 1 of Set 4 | totness\n",
      "Processing Record 2 of Set 4 | kadykchan\n",
      "City not found. Skipping...\n",
      "Processing Record 3 of Set 4 | isangel\n",
      "Processing Record 4 of Set 4 | geraldton\n",
      "Processing Record 5 of Set 4 | sentyabrskiy\n",
      "City not found. Skipping...\n",
      "Processing Record 6 of Set 4 | gisborne\n",
      "Processing Record 7 of Set 4 | avarua\n",
      "Processing Record 8 of Set 4 | barawe\n",
      "City not found. Skipping...\n",
      "Processing Record 9 of Set 4 | moussoro\n",
      "Processing Record 10 of Set 4 | san rafael\n",
      "Processing Record 11 of Set 4 | illoqqortoormiut\n",
      "City not found. Skipping...\n",
      "Processing Record 12 of Set 4 | longyearbyen\n",
      "Processing Record 13 of Set 4 | karauzyak\n",
      "City not found. Skipping...\n",
      "Processing Record 14 of Set 4 | alofi\n",
      "Processing Record 15 of Set 4 | eureka\n",
      "Processing Record 16 of Set 4 | batemans bay\n",
      "Processing Record 17 of Set 4 | teya\n",
      "Processing Record 18 of Set 4 | tomatlan\n",
      "Processing Record 19 of Set 4 | katangli\n",
      "Processing Record 20 of Set 4 | havelock\n",
      "Processing Record 21 of Set 4 | tumannyy\n",
      "City not found. Skipping...\n",
      "Processing Record 22 of Set 4 | ewa beach\n",
      "Processing Record 23 of Set 4 | tuggurt\n",
      "City not found. Skipping...\n",
      "Processing Record 24 of Set 4 | general pico\n",
      "Processing Record 25 of Set 4 | mount gambier\n",
      "Processing Record 26 of Set 4 | hanford\n",
      "Processing Record 27 of Set 4 | boa vista\n",
      "Processing Record 28 of Set 4 | yumen\n",
      "Processing Record 29 of Set 4 | lakes entrance\n",
      "Processing Record 30 of Set 4 | odweyne\n",
      "Processing Record 31 of Set 4 | la concepcion\n",
      "Processing Record 32 of Set 4 | avila\n",
      "Processing Record 33 of Set 4 | buritama\n",
      "Processing Record 34 of Set 4 | kaeo\n",
      "Processing Record 35 of Set 4 | prince rupert\n",
      "Processing Record 36 of Set 4 | linares\n"
     ]
    },
    {
     "name": "stdout",
     "output_type": "stream",
     "text": [
      "Processing Record 37 of Set 4 | cockburn town\n",
      "Processing Record 38 of Set 4 | lorengau\n",
      "Processing Record 39 of Set 4 | slave lake\n",
      "Processing Record 40 of Set 4 | puerto cabezas\n",
      "Processing Record 41 of Set 4 | ust-kamchatsk\n",
      "City not found. Skipping...\n",
      "Processing Record 42 of Set 4 | dezhou\n",
      "Processing Record 43 of Set 4 | inyonga\n",
      "Processing Record 44 of Set 4 | narsaq\n",
      "Processing Record 45 of Set 4 | ribeira grande\n",
      "Processing Record 46 of Set 4 | chokurdakh\n",
      "Processing Record 47 of Set 4 | anchorage\n",
      "Processing Record 48 of Set 4 | zhigansk\n",
      "Processing Record 49 of Set 4 | kirakira\n",
      "Processing Record 50 of Set 4 | vastervik\n",
      "City not found. Skipping...\n",
      "Processing Record 1 of Set 5 | bima\n",
      "Processing Record 2 of Set 5 | the valley\n",
      "Processing Record 3 of Set 5 | mahadday weyne\n",
      "City not found. Skipping...\n",
      "Processing Record 4 of Set 5 | marsabit\n",
      "Processing Record 5 of Set 5 | moerai\n",
      "Processing Record 6 of Set 5 | hermon\n",
      "Processing Record 7 of Set 5 | hambantota\n",
      "Processing Record 8 of Set 5 | mocuba\n",
      "Processing Record 9 of Set 5 | talnakh\n",
      "Processing Record 10 of Set 5 | hasaki\n",
      "Processing Record 11 of Set 5 | victoria\n",
      "Processing Record 12 of Set 5 | toora-khem\n",
      "Processing Record 13 of Set 5 | xichang\n",
      "Processing Record 14 of Set 5 | mount isa\n",
      "Processing Record 15 of Set 5 | portland\n",
      "Processing Record 16 of Set 5 | saint george\n",
      "Processing Record 17 of Set 5 | guerrero negro\n",
      "Processing Record 18 of Set 5 | aflu\n",
      "City not found. Skipping...\n",
      "Processing Record 19 of Set 5 | tasiilaq\n",
      "Processing Record 20 of Set 5 | port hawkesbury\n",
      "Processing Record 21 of Set 5 | maragogi\n",
      "Processing Record 22 of Set 5 | el badari\n",
      "City not found. Skipping...\n",
      "Processing Record 23 of Set 5 | ombessa\n",
      "Processing Record 24 of Set 5 | dingle\n",
      "Processing Record 25 of Set 5 | sinnamary\n",
      "Processing Record 26 of Set 5 | yamada\n",
      "Processing Record 27 of Set 5 | kahului\n",
      "Processing Record 28 of Set 5 | tailai\n",
      "Processing Record 29 of Set 5 | kargasok\n",
      "Processing Record 30 of Set 5 | genhe\n",
      "Processing Record 31 of Set 5 | coquimbo\n",
      "Processing Record 32 of Set 5 | preobrazheniye\n",
      "Processing Record 33 of Set 5 | oxford\n",
      "Processing Record 34 of Set 5 | karaton\n",
      "Processing Record 35 of Set 5 | chagda\n",
      "City not found. Skipping...\n",
      "Processing Record 36 of Set 5 | bilibino\n",
      "Processing Record 37 of Set 5 | mitsamiouli\n",
      "Processing Record 38 of Set 5 | port macquarie\n",
      "Processing Record 39 of Set 5 | morant bay\n",
      "Processing Record 40 of Set 5 | kenora\n",
      "Processing Record 41 of Set 5 | liberty\n",
      "Processing Record 42 of Set 5 | tsihombe\n",
      "City not found. Skipping...\n",
      "Processing Record 43 of Set 5 | lixourion\n",
      "Processing Record 44 of Set 5 | saldanha\n",
      "Processing Record 45 of Set 5 | katsuura\n",
      "Processing Record 46 of Set 5 | gat\n",
      "Processing Record 47 of Set 5 | port shepstone\n",
      "Processing Record 48 of Set 5 | marang\n",
      "Processing Record 49 of Set 5 | jian\n",
      "Processing Record 50 of Set 5 | sao filipe\n",
      "Processing Record 1 of Set 6 | payakumbuh\n",
      "Processing Record 2 of Set 6 | urucara\n",
      "Processing Record 3 of Set 6 | ostrovnoy\n",
      "Processing Record 4 of Set 6 | aklavik\n",
      "Processing Record 5 of Set 6 | ler\n",
      "Processing Record 6 of Set 6 | ketchikan\n",
      "Processing Record 7 of Set 6 | bemidji\n",
      "Processing Record 8 of Set 6 | hofn\n",
      "Processing Record 9 of Set 6 | dali\n",
      "Processing Record 10 of Set 6 | alice springs\n",
      "Processing Record 11 of Set 6 | bethel\n",
      "Processing Record 12 of Set 6 | marawi\n",
      "Processing Record 13 of Set 6 | sioux lookout\n",
      "Processing Record 14 of Set 6 | souillac\n",
      "Processing Record 15 of Set 6 | katha\n",
      "City not found. Skipping...\n",
      "Processing Record 16 of Set 6 | okhotsk\n",
      "Processing Record 17 of Set 6 | clifton\n",
      "Processing Record 18 of Set 6 | baghmara\n",
      "Processing Record 19 of Set 6 | mazagao\n",
      "Processing Record 20 of Set 6 | cabo san lucas\n",
      "Processing Record 21 of Set 6 | mana\n",
      "Processing Record 22 of Set 6 | middletown\n",
      "Processing Record 23 of Set 6 | lingao\n",
      "Processing Record 24 of Set 6 | manali\n",
      "Processing Record 25 of Set 6 | tahta\n",
      "Processing Record 26 of Set 6 | waipawa\n",
      "Processing Record 27 of Set 6 | ixtapa\n",
      "Processing Record 28 of Set 6 | pangai\n",
      "Processing Record 29 of Set 6 | airai\n",
      "Processing Record 30 of Set 6 | cassilandia\n",
      "Processing Record 31 of Set 6 | nakhon thai\n",
      "Processing Record 32 of Set 6 | oranjemund\n",
      "Processing Record 33 of Set 6 | yatou\n",
      "Processing Record 34 of Set 6 | nargana\n",
      "Processing Record 35 of Set 6 | meulaboh\n",
      "Processing Record 36 of Set 6 | waitara\n",
      "Processing Record 37 of Set 6 | severo-yeniseyskiy\n",
      "Processing Record 38 of Set 6 | lagoa\n",
      "Processing Record 39 of Set 6 | port lincoln\n",
      "Processing Record 40 of Set 6 | leningradskiy\n",
      "Processing Record 41 of Set 6 | bushehr\n",
      "Processing Record 42 of Set 6 | lata\n",
      "Processing Record 43 of Set 6 | tubruq\n",
      "City not found. Skipping...\n",
      "Processing Record 44 of Set 6 | mirnyy\n",
      "Processing Record 45 of Set 6 | mahon\n",
      "Processing Record 46 of Set 6 | vestmannaeyjar\n",
      "Processing Record 47 of Set 6 | itoman\n",
      "Processing Record 48 of Set 6 | matara\n",
      "Processing Record 49 of Set 6 | kavieng\n",
      "Processing Record 50 of Set 6 | sanmenxia\n"
     ]
    },
    {
     "ename": "KeyboardInterrupt",
     "evalue": "",
     "output_type": "error",
     "traceback": [
      "\u001b[1;31m---------------------------------------------------------------------------\u001b[0m",
      "\u001b[1;31mKeyboardInterrupt\u001b[0m                         Traceback (most recent call last)",
      "\u001b[1;32m~\\AppData\\Local\\Temp\\ipykernel_14948\\2837519263.py\u001b[0m in \u001b[0;36m<module>\u001b[1;34m\u001b[0m\n\u001b[0;32m     17\u001b[0m         \u001b[0mset_Count\u001b[0m \u001b[1;33m+=\u001b[0m \u001b[1;36m1\u001b[0m\u001b[1;33m\u001b[0m\u001b[1;33m\u001b[0m\u001b[0m\n\u001b[0;32m     18\u001b[0m         \u001b[0mrecord_count\u001b[0m \u001b[1;33m=\u001b[0m \u001b[1;36m1\u001b[0m\u001b[1;33m\u001b[0m\u001b[1;33m\u001b[0m\u001b[0m\n\u001b[1;32m---> 19\u001b[1;33m         \u001b[0mtime\u001b[0m\u001b[1;33m.\u001b[0m\u001b[0msleep\u001b[0m\u001b[1;33m(\u001b[0m\u001b[1;36m60\u001b[0m\u001b[1;33m)\u001b[0m\u001b[1;33m\u001b[0m\u001b[1;33m\u001b[0m\u001b[0m\n\u001b[0m\u001b[0;32m     20\u001b[0m \u001b[1;33m\u001b[0m\u001b[0m\n\u001b[0;32m     21\u001b[0m      \u001b[1;31m# Create endpoint URL with each city.\u001b[0m\u001b[1;33m\u001b[0m\u001b[1;33m\u001b[0m\u001b[1;33m\u001b[0m\u001b[0m\n",
      "\u001b[1;31mKeyboardInterrupt\u001b[0m: "
     ]
    }
   ],
   "source": [
    "# Create an empty list to hold the weather data\n",
    "city_data = []\n",
    "\n",
    "# Print the beginning of the logging\n",
    "print(\"Beginning Data Retrieval\")\n",
    "print(\"------------------------\")\n",
    "\n",
    "# Create counters\n",
    "record_count = 1\n",
    "set_Count = 1\n",
    "\n",
    "# Loop through all the cities in our list.\n",
    "for i , city in enumerate(cities):\n",
    "\n",
    "    # Group cities in sets of 50 for logging purposes.\n",
    "    if (i % 50 == 0 and i >= 50):\n",
    "        set_Count += 1\n",
    "        record_count = 1\n",
    "        time.sleep(60)\n",
    "\n",
    "     # Create endpoint URL with each city.\n",
    "    city_url = url +\"&q=\" + city.replace(\" \",\"+\")\n",
    "    \n",
    "    # Log the URL, record, and set numbers and the city.\n",
    "    print(f\"Processing Record {record_count} of Set {set_Count} | {city}\")\n",
    "    # Add 1 to the record count.\n",
    "    record_count += 1\n",
    "    \n",
    "    # Exception Handling\n",
    "    try:\n",
    "        response = requests.get(city_url)\n",
    "        city_weather = response.json()\n",
    "       \n",
    "         # Parse out the needed data.\n",
    "        city_lat = city_weather[\"coord\"][\"lat\"]\n",
    "        city_lng = city_weather[\"coord\"][\"lon\"]\n",
    "        city_max_temp = city_weather[\"main\"][\"temp_max\"]\n",
    "        city_humidity = city_weather[\"main\"][\"humidity\"]\n",
    "        city_clouds = city_weather[\"clouds\"][\"all\"]\n",
    "        city_wind = city_weather[\"wind\"][\"speed\"]\n",
    "        city_country = city_weather[\"sys\"][\"country\"]\n",
    "        \n",
    "        # Convert the date to ISO standard.\n",
    "        city_date = datetime.utcfromtimestamp(city_weather[\"dt\"]).strftime(\"%Y-%m-%d %H:%M:%S\")\n",
    "  \n",
    "        # Append the city information into city_data list.\n",
    "        city_data.append({\"City\":city.title(),\n",
    "                             \"Latitude\":city_lat,\n",
    "                             \"Longitude\":city_lng,\n",
    "                             \"Max Temp\":city_max_temp,\n",
    "                             \"Humidity\":city_humidity,\n",
    "                             \"Clouds\":city_clouds,\n",
    "                             \"Wind\":city_wind,\n",
    "                             \"Country\":city_country,\n",
    "                             \"Date\":city_date})\n",
    "    except:\n",
    "        print(\"City not found. Skipping...\")\n",
    "        pass\n",
    "        \n",
    "        \n",
    "# Indicate that Data Loading is complete.\n",
    "print(\"-----------------------------\")\n",
    "print(\"Data Retrieval Complete      \")\n",
    "print(\"-----------------------------\")\n",
    "       "
   ]
  },
  {
   "cell_type": "code",
   "execution_count": null,
   "id": "db576d2f",
   "metadata": {
    "scrolled": true
   },
   "outputs": [],
   "source": [
    "len(city_data)"
   ]
  },
  {
   "cell_type": "code",
   "execution_count": null,
   "id": "b9663e99",
   "metadata": {
    "scrolled": true
   },
   "outputs": [],
   "source": [
    "# Convert the array of dictionaries into a DataFrame\n",
    "city_data_df = pd.DataFrame(city_data)\n",
    "city_data_df.head(10)"
   ]
  },
  {
   "cell_type": "code",
   "execution_count": null,
   "id": "5cd99f5f",
   "metadata": {},
   "outputs": [],
   "source": [
    "# we'll reorder the columns as City, Country, Date, Lat, Lng, Max Temp, Humidity, Cloudiness, and Wind Speed\n",
    "new_columns_list = [\"City\",\"Country\",\"Date\",\"Latitude\",\"Longitude\",\"Max Temp\",\"Humidity\",\"Clouds\",\"Wind\"]\n",
    "\n",
    "city_data_df = city_data_df[new_columns_list]\n",
    "city_data_df.columns"
   ]
  },
  {
   "cell_type": "code",
   "execution_count": null,
   "id": "99906280",
   "metadata": {},
   "outputs": [],
   "source": [
    "# Display the DataFrame\n",
    "city_data_df.head(10)"
   ]
  },
  {
   "cell_type": "code",
   "execution_count": null,
   "id": "df271862",
   "metadata": {},
   "outputs": [],
   "source": [
    "# Create the output file (CSV).\n",
    "output_data_file = \"weather_data/cities.csv\"\n",
    "\n",
    "city_data_df.to_csv(output_data_file, index_label=\"City_ID\")"
   ]
  },
  {
   "cell_type": "markdown",
   "id": "9a3d2e12",
   "metadata": {},
   "source": [
    "## We'll create scatter plots for latitude vs. maximum temperature, humidity, cloudiness, and wind speed. "
   ]
  },
  {
   "cell_type": "code",
   "execution_count": null,
   "id": "7fcfb65b",
   "metadata": {},
   "outputs": [],
   "source": [
    "# Extract relevant fields from the DataFrame for plotting.\n",
    "city_data_df.columns"
   ]
  },
  {
   "cell_type": "code",
   "execution_count": null,
   "id": "0a31c9e8",
   "metadata": {},
   "outputs": [],
   "source": [
    "lats = city_data_df[\"Latitude\"]\n",
    "max_temps = city_data_df[\"Max Temp\"]\n",
    "humidity = city_data_df[\"Humidity\"]\n",
    "cloudiness = city_data_df[\"Clouds\"]\n",
    "wind_speed = city_data_df[\"Wind\"]"
   ]
  },
  {
   "cell_type": "markdown",
   "id": "c3561f14",
   "metadata": {},
   "source": [
    "## create a scatter plot for the latitude vs. maximum temperature."
   ]
  },
  {
   "cell_type": "code",
   "execution_count": null,
   "id": "ec286d2d",
   "metadata": {},
   "outputs": [],
   "source": [
    "# Today\n",
    "today = time.strftime(\"%x\")\n",
    "\n",
    "fig, ax = plt.subplots()\n",
    "\n",
    "ax.scatter(lats,max_temps, label=\"Cities\", edgecolors=\"k\",alpha=0.8)\n",
    "ax.set_title(\"City Latitude vs. Max Temperature \" + today)\n",
    "ax.set_xlabel(\"Latitude\")\n",
    "ax.set_ylabel(\"Max Temperature (F)\")\n",
    "ax.grid()\n",
    "\n",
    "# Save the figure.\n",
    "plt.savefig(\"weather_data/Fig1.png\")\n",
    "\n",
    "plt.show()\n"
   ]
  },
  {
   "cell_type": "markdown",
   "id": "4b9c49de",
   "metadata": {},
   "source": [
    "## create a scatter plot that compares the latitude vs. the humidity."
   ]
  },
  {
   "cell_type": "code",
   "execution_count": null,
   "id": "7c7d662b",
   "metadata": {
    "scrolled": true
   },
   "outputs": [],
   "source": [
    "# Today\n",
    "today = time.strftime(\"%x\")\n",
    "\n",
    "fig, ax = plt.subplots()\n",
    "\n",
    "ax.scatter(lats,humidity, label=\"Cities\", edgecolors=\"k\",alpha=0.8)\n",
    "ax.set_title(\"City Latitude vs. Humidity \" + today)\n",
    "ax.set_xlabel(\"Latitude\")\n",
    "ax.set_ylabel(\"Humidity (%)\")\n",
    "ax.grid()\n",
    "\n",
    "# Save the figure.\n",
    "plt.savefig(\"weather_data/Fig2.png\")\n",
    "\n",
    "plt.show()"
   ]
  },
  {
   "cell_type": "markdown",
   "id": "d52f8cb4",
   "metadata": {},
   "source": [
    "## create a scatter plot that compares the latitude vs. the cloudiness."
   ]
  },
  {
   "cell_type": "code",
   "execution_count": null,
   "id": "0f5705fe",
   "metadata": {
    "scrolled": true
   },
   "outputs": [],
   "source": [
    "# Today\n",
    "today = time.strftime(\"%x\")\n",
    "\n",
    "fig, ax = plt.subplots()\n",
    "\n",
    "ax.scatter(lats,cloudiness, label=\"Cities\", edgecolors=\"k\",alpha=0.8)\n",
    "ax.set_title(\"City Latitude vs. Cloudiness \" + today)\n",
    "ax.set_xlabel(\"Latitude\")\n",
    "ax.set_ylabel(\"Cloudiness (%)\")\n",
    "ax.grid()\n",
    "\n",
    "# Save the figure.\n",
    "plt.savefig(\"weather_data/Fig3.png\")\n",
    "\n",
    "plt.show()"
   ]
  },
  {
   "cell_type": "markdown",
   "id": "1294f0f0",
   "metadata": {},
   "source": [
    "## create a scatter plot that compares the latitude vs. Wind Speed."
   ]
  },
  {
   "cell_type": "code",
   "execution_count": null,
   "id": "31a285d1",
   "metadata": {},
   "outputs": [],
   "source": [
    "# Today\n",
    "today = time.strftime(\"%x\")\n",
    "\n",
    "fig, ax = plt.subplots()\n",
    "\n",
    "ax.scatter(lats,wind_speed, label=\"Cities\", edgecolors=\"k\",alpha=0.8)\n",
    "ax.set_title(\"City Latitude vs. Wind Speed \" + today)\n",
    "ax.set_xlabel(\"Latitude\")\n",
    "ax.set_ylabel(\"Wind Speed (mph)\")\n",
    "ax.grid()\n",
    "\n",
    "# Save the figure.\n",
    "plt.savefig(\"weather_data/Fig4.png\")\n",
    "\n",
    "plt.show()"
   ]
  },
  {
   "cell_type": "markdown",
   "id": "990a95ae",
   "metadata": {},
   "source": [
    "### Create a function to create perform linear regression on the weather data and plot a regression line and the equation with the data."
   ]
  },
  {
   "cell_type": "code",
   "execution_count": null,
   "id": "1eac7257",
   "metadata": {},
   "outputs": [],
   "source": [
    "# Import dependencies.\n",
    "from scipy.stats import linregress"
   ]
  },
  {
   "cell_type": "code",
   "execution_count": null,
   "id": "5ea32841",
   "metadata": {},
   "outputs": [],
   "source": [
    "def plot_linear_regression(x_values,y_values,title,ylabel,text_coordinates):\n",
    "    \n",
    "    linregress(x_values, y_values)\n",
    "    \n",
    "    (slope, intercept, rvalue, pvalue, stderr) = linregress(x_values, y_values)\n",
    "    \n",
    "    # Create a line equation\n",
    "    line_eq = \"y=\" + str(round(slope,2)) + \"x +\" + str(round(intercept,2))\n",
    "    \n",
    "    # Get a list of regression line values from the slope and intercept\n",
    "    regress_values = [(x * slope + intercept) for x in x_values]\n",
    "    \n",
    "    # Create a scatter plot with x_values and y_values\n",
    "    plt.scatter(x_values, y_values)\n",
    "    \n",
    "    # Plot the regression line in the scatter plot\n",
    "    plt.plot(x_values, regress_values, \"r\")\n",
    "    \n",
    "    # Annotate the text for the line equation\n",
    "    plt.annotate(line_eq, text_coordinates, fontsize=15, color=\"red\")\n",
    "    \n",
    "    # Add labels\n",
    "    plt.title(title)\n",
    "    plt.xlabel(\"Latitude\")\n",
    "    plt.ylabel(ylabel)\n",
    "    \n",
    "    plt.show()\n",
    "    "
   ]
  },
  {
   "cell_type": "markdown",
   "id": "393d4a4b",
   "metadata": {},
   "source": [
    "### Create the Hemisphere DataFrames"
   ]
  },
  {
   "cell_type": "code",
   "execution_count": null,
   "id": "5bd6fc98",
   "metadata": {},
   "outputs": [],
   "source": [
    "city_data_df.head()\n",
    "city_data_df.loc[(city_data_df[\"Latitude\"] >= 0)].head()\n",
    "#city_data_df.loc[(city_data_df[\"Latitude\"]>=0).head()]"
   ]
  },
  {
   "cell_type": "code",
   "execution_count": null,
   "id": "ce2fbf57",
   "metadata": {},
   "outputs": [],
   "source": [
    "northern_hemi_df = city_data_df.loc[(city_data_df[\"Latitude\"]>=0)]\n",
    "southern_hemi_df = city_data_df.loc[(city_data_df[\"Latitude\"]<0)]"
   ]
  },
  {
   "cell_type": "markdown",
   "id": "6316d76b",
   "metadata": {},
   "source": [
    "### Perform Linear Regression on the Maximum Temperature for the Northern Hemisphere"
   ]
  },
  {
   "cell_type": "code",
   "execution_count": null,
   "id": "ea0f30c2",
   "metadata": {},
   "outputs": [],
   "source": [
    "latitudes = northern_hemi_df[\"Latitude\"]\n",
    "max_temps = northern_hemi_df[\"Max Temp\"]\n",
    "title = \"Latitudes Vs Maximum Temperatures For Northern Hemisphere\"\n",
    "ylabel = \"Maximum Temperature (F)\"\n",
    "\n",
    "# Call function\n",
    "plot_linear_regression(latitudes, max_temps, title, ylabel, (10,40))"
   ]
  },
  {
   "cell_type": "markdown",
   "id": "77e1e8b4",
   "metadata": {},
   "source": [
    "### Perform Linear Regression on the Maximum Temperature for the Northern Hemisphere"
   ]
  },
  {
   "cell_type": "code",
   "execution_count": null,
   "id": "c02745be",
   "metadata": {},
   "outputs": [],
   "source": [
    "latitudes = southern_hemi_df[\"Latitude\"]\n",
    "max_temps = southern_hemi_df[\"Max Temp\"]\n",
    "title = 'Linear Regression on the Southern Hemisphere for Maximum Temperature'\n",
    "ylabel = \"Maximum Temperature (F)\"\n",
    "\n",
    "# Call function\n",
    "plot_linear_regression(latitudes, max_temps, title, ylabel, (-50,90))"
   ]
  },
  {
   "cell_type": "code",
   "execution_count": null,
   "id": "7469831d",
   "metadata": {
    "scrolled": true
   },
   "outputs": [],
   "source": [
    "# Linear regression on the Northern Hemisphere\n",
    "x_values = northern_hemi_df[\"Latitude\"]\n",
    "y_values = northern_hemi_df[\"Humidity\"]\n",
    "# Call the function.\n",
    "plot_linear_regression(x_values, y_values,\n",
    "                       'Linear Regression on the Northern Hemisphere for % Humidity', \n",
    "                       '% Humidity',(40,10))"
   ]
  },
  {
   "cell_type": "code",
   "execution_count": null,
   "id": "7d1bab47",
   "metadata": {
    "scrolled": true
   },
   "outputs": [],
   "source": [
    "# Linear regression on the Southern Hemisphere\n",
    "x_values = southern_hemi_df[\"Latitude\"]\n",
    "y_values = southern_hemi_df[\"Humidity\"]\n",
    "# Call the function.\n",
    "plot_linear_regression(x_values, y_values,\n",
    "                       'Linear Regression on the Southern Hemisphere for % Humidity', \n",
    "                       '% Humidity',(-50,15))\n"
   ]
  },
  {
   "cell_type": "code",
   "execution_count": null,
   "id": "b2ce8f0c",
   "metadata": {
    "scrolled": true
   },
   "outputs": [],
   "source": [
    "# Linear regression on the Northern Hemisphere\n",
    "x_values = northern_hemi_df[\"Latitude\"]\n",
    "y_values = northern_hemi_df[\"Clouds\"]\n",
    "# Call the function.\n",
    "plot_linear_regression(x_values, y_values,\n",
    "                       'Linear Regression on the Northern Hemisphere for cloudiness', \n",
    "                       'Cloudiness',(40,10))\n"
   ]
  },
  {
   "cell_type": "code",
   "execution_count": null,
   "id": "f9d30d72",
   "metadata": {},
   "outputs": [],
   "source": [
    "# Linear regression on the Southern Hemisphere\n",
    "x_values = southern_hemi_df[\"Latitude\"]\n",
    "y_values = southern_hemi_df[\"Clouds\"]\n",
    "# Call the function.\n",
    "plot_linear_regression(x_values, y_values,\n",
    "                       'Linear Regression on the Southern Hemisphere for % Cloudiness', '% Cloudiness',(-50,30))\n"
   ]
  },
  {
   "cell_type": "code",
   "execution_count": null,
   "id": "c2778699",
   "metadata": {},
   "outputs": [],
   "source": [
    "# Linear regression on the Northern Hemisphere\n",
    "x_values = northern_hemi_df[\"Latitude\"]\n",
    "y_values = northern_hemi_df[\"Wind\"]\n",
    "# Call the function.\n",
    "plot_linear_regression(x_values, y_values,\n",
    "                       'Linear Regression on the Northern Hemisphere for Wind Speed', \n",
    "                       'Wind Speed',(10,25))\n"
   ]
  },
  {
   "cell_type": "code",
   "execution_count": null,
   "id": "64d1b0df",
   "metadata": {},
   "outputs": [],
   "source": [
    "# Linear regression on the Southern Hemisphere\n",
    "x_values = southern_hemi_df[\"Latitude\"]\n",
    "y_values = southern_hemi_df[\"Wind\"]\n",
    "# Call the function.\n",
    "plot_linear_regression(x_values, y_values,\n",
    "                       'Linear Regression on the Southern Hemisphere for Wind Speed', \n",
    "                       'Wind Speed',(-50,25))"
   ]
  },
  {
   "cell_type": "code",
   "execution_count": null,
   "id": "7a8e8673",
   "metadata": {},
   "outputs": [],
   "source": []
  }
 ],
 "metadata": {
  "kernelspec": {
   "display_name": "PythonData",
   "language": "python",
   "name": "pythondata"
  },
  "language_info": {
   "codemirror_mode": {
    "name": "ipython",
    "version": 3
   },
   "file_extension": ".py",
   "mimetype": "text/x-python",
   "name": "python",
   "nbconvert_exporter": "python",
   "pygments_lexer": "ipython3",
   "version": "3.7.13"
  }
 },
 "nbformat": 4,
 "nbformat_minor": 5
}
