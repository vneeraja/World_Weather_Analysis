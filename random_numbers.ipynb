{
 "cells": [
  {
   "cell_type": "code",
   "execution_count": 1,
   "id": "e9abb933",
   "metadata": {},
   "outputs": [],
   "source": [
    "# Import the random module\n",
    "\n",
    "import random"
   ]
  },
  {
   "cell_type": "code",
   "execution_count": 2,
   "id": "e59e22a9",
   "metadata": {},
   "outputs": [
    {
     "data": {
      "text/plain": [
       "0.11691760345621194"
      ]
     },
     "execution_count": 2,
     "metadata": {},
     "output_type": "execute_result"
    }
   ],
   "source": [
    "random.random()"
   ]
  },
  {
   "cell_type": "code",
   "execution_count": 3,
   "id": "d9955856",
   "metadata": {},
   "outputs": [
    {
     "data": {
      "text/plain": [
       "-72"
      ]
     },
     "execution_count": 3,
     "metadata": {},
     "output_type": "execute_result"
    }
   ],
   "source": [
    "# We'll get a single integer between -90 and 90 because we need two latitudes between -90 and 90.\n",
    "# Use randint()\n",
    "random.randint(-90,90)\n"
   ]
  },
  {
   "cell_type": "code",
   "execution_count": 4,
   "id": "24a2350e",
   "metadata": {},
   "outputs": [
    {
     "data": {
      "text/plain": [
       "-89.37903026593239"
      ]
     },
     "execution_count": 4,
     "metadata": {},
     "output_type": "execute_result"
    }
   ],
   "source": [
    "# If we combine random.randint(-90, 89) and random.random() \n",
    "# to generate a floating-point decimal between -90 and 90, we can generate a random latitude. \n",
    "\n",
    "random_number = random.randint(-90,89) + random.random()\n",
    "random_number"
   ]
  },
  {
   "cell_type": "code",
   "execution_count": 5,
   "id": "84d575bc",
   "metadata": {},
   "outputs": [
    {
     "name": "stdout",
     "output_type": "stream",
     "text": [
      "[-36.50691372248735, 24.3189711324691, 10.577937140593376, 87.08454098197025, -17.78275579599746, 6.723299883674654, -19.887056797229157, -9.965572448036838, 23.30707256813257, -81.65310719182396]\n"
     ]
    }
   ],
   "source": [
    "# Generate ten random floating-point decimal latitudes between -90 and 89.\n",
    "x = 1\n",
    "latitudes = []\n",
    "\n",
    "while x < 11:\n",
    "    random_lat = random.randint(-90,90) + random.random()\n",
    "    latitudes.append(random_lat)\n",
    "    x += 1\n",
    "    \n",
    "print(latitudes)"
   ]
  },
  {
   "cell_type": "code",
   "execution_count": 10,
   "id": "adf404a9",
   "metadata": {},
   "outputs": [
    {
     "data": {
      "text/plain": [
       "39"
      ]
     },
     "execution_count": 10,
     "metadata": {},
     "output_type": "execute_result"
    }
   ],
   "source": [
    "# Add random.randrange(-90, 90, step=3) to a new cell and run the cell.\n",
    "# The output is a number between -90 and 90, where the difference between each number in the sequence is 3.\n",
    "random.randrange(-90,90,3)"
   ]
  },
  {
   "cell_type": "code",
   "execution_count": 11,
   "id": "cde4230b",
   "metadata": {},
   "outputs": [
    {
     "data": {
      "text/plain": [
       "-69.39009680936849"
      ]
     },
     "execution_count": 11,
     "metadata": {},
     "output_type": "execute_result"
    }
   ],
   "source": [
    "# The uniform() function will allow us to generate a floating-point decimal number \n",
    "# between two given numbers inside the parentheses.\n",
    "random.uniform(-90,90)"
   ]
  },
  {
   "cell_type": "markdown",
   "id": "07165853",
   "metadata": {},
   "source": [
    "## The NumPy and random Modules\n",
    "### One way to generate more than a thousand latitudes and longitudes is to chain the NumPy module to the random module to create an array of latitudes or longitudes between the lowest and highest values"
   ]
  },
  {
   "cell_type": "code",
   "execution_count": 13,
   "id": "2fea8763",
   "metadata": {},
   "outputs": [],
   "source": [
    "# Import the NumPy module\n",
    "import numpy as np"
   ]
  },
  {
   "cell_type": "code",
   "execution_count": 18,
   "id": "19c43243",
   "metadata": {},
   "outputs": [
    {
     "data": {
      "text/plain": [
       "-73.4085695421084"
      ]
     },
     "execution_count": 18,
     "metadata": {},
     "output_type": "execute_result"
    }
   ],
   "source": [
    "# The NumPy module has a built-in random module and supplements the built-in Python random module.\n",
    "np.random.uniform(-90,90)\n",
    "#np.random.uniform(low=-90,high=90)"
   ]
  },
  {
   "cell_type": "code",
   "execution_count": 20,
   "id": "798b000f",
   "metadata": {},
   "outputs": [
    {
     "data": {
      "text/plain": [
       "array([ 43.18094547,  -5.60647166, -34.12713246,  48.11703612,\n",
       "       -24.36698093, -82.69115682,  53.87872619, -75.57805874,\n",
       "        23.413484  ,  15.59515795, -36.8060665 ,  23.24432599,\n",
       "       -25.02810137,  53.37220857, -47.85410891,  31.55299256,\n",
       "        47.11699235,  69.22848659,  14.50516982,  44.03837907,\n",
       "        68.30918257, -54.25137279,  78.99251209,  40.64965507,\n",
       "       -33.47744301, -44.51521685,  56.61942809, -78.30167829,\n",
       "       -24.12168571, -24.44656263, -75.16998399,  -9.39448109,\n",
       "       -85.04969137, -29.45675984,  67.11185577,  -0.75940592,\n",
       "        24.59208215, -31.33449698,  69.56893925, -47.2781638 ,\n",
       "       -57.79187827,  79.0125832 ,   3.77950926,  27.64050208,\n",
       "        31.10258789, -31.59379149, -73.61191606, -66.46003321,\n",
       "        40.33792938,  56.40768929])"
      ]
     },
     "execution_count": 20,
     "metadata": {},
     "output_type": "execute_result"
    }
   ],
   "source": [
    "# To generate more than one floating-point decimal number, we can add the size parameter.\n",
    "np.random.uniform(-90, 90, size=50)"
   ]
  },
  {
   "cell_type": "code",
   "execution_count": 22,
   "id": "3d7cdbc7",
   "metadata": {},
   "outputs": [],
   "source": [
    "# To test how long a piece of code or function takes to run, we can import the \"timeit\" module and use the %timeit magic command\n",
    "# Import timeit\n",
    "import timeit"
   ]
  },
  {
   "cell_type": "code",
   "execution_count": 24,
   "id": "058b82a2",
   "metadata": {},
   "outputs": [
    {
     "name": "stdout",
     "output_type": "stream",
     "text": [
      "19.1 µs ± 453 ns per loop (mean ± std. dev. of 7 runs, 100000 loops each)\n"
     ]
    }
   ],
   "source": [
    "%timeit np.random.uniform(-90, 90, size=1500)"
   ]
  },
  {
   "cell_type": "code",
   "execution_count": 28,
   "id": "3a7eb315",
   "metadata": {},
   "outputs": [
    {
     "name": "stdout",
     "output_type": "stream",
     "text": [
      "798 µs ± 47.8 µs per loop (mean ± std. dev. of 7 runs, 1000 loops each)\n"
     ]
    }
   ],
   "source": [
    "def latitudes(size):\n",
    "    x = 0\n",
    "    latitudes_list = []\n",
    "    while (x<size):\n",
    "        random_lat = random.uniform(-90,90)\n",
    "        latitudes_list.append(random_lat)\n",
    "        x += 1\n",
    "    return latitudes\n",
    "    \n",
    "%timeit latitudes(1500)"
   ]
  },
  {
   "cell_type": "code",
   "execution_count": null,
   "id": "869586ff",
   "metadata": {},
   "outputs": [],
   "source": []
  }
 ],
 "metadata": {
  "kernelspec": {
   "display_name": "PythonData",
   "language": "python",
   "name": "pythondata"
  },
  "language_info": {
   "codemirror_mode": {
    "name": "ipython",
    "version": 3
   },
   "file_extension": ".py",
   "mimetype": "text/x-python",
   "name": "python",
   "nbconvert_exporter": "python",
   "pygments_lexer": "ipython3",
   "version": "3.7.13"
  }
 },
 "nbformat": 4,
 "nbformat_minor": 5
}
