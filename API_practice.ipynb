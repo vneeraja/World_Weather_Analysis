{
 "cells": [
  {
   "cell_type": "code",
   "execution_count": 96,
   "id": "012afbea",
   "metadata": {},
   "outputs": [],
   "source": [
    "# Use the citipy module to determine city based on latitude and longitude.\n",
    "from citipy import citipy\n",
    "import numpy as np\n",
    "import pandas as pd"
   ]
  },
  {
   "cell_type": "code",
   "execution_count": 97,
   "id": "22e60c70",
   "metadata": {},
   "outputs": [
    {
     "data": {
      "text/plain": [
       "<zip at 0x1ede7810a08>"
      ]
     },
     "execution_count": 97,
     "metadata": {},
     "output_type": "execute_result"
    }
   ],
   "source": [
    "# Generate random latitudes and longitudes\n",
    "lats = np.random.uniform(-90, 90, size=5)\n",
    "lngs = np.random.uniform(-180, 180, size=5)\n",
    "lats_lngs = zip(lats,lngs)\n",
    "lats_lngs"
   ]
  },
  {
   "cell_type": "code",
   "execution_count": 98,
   "id": "47fbfca8",
   "metadata": {},
   "outputs": [
    {
     "name": "stdout",
     "output_type": "stream",
     "text": [
      "ushuaia ar\n",
      "los llanos de aridane es\n",
      "rikitea pf\n",
      "conakry gn\n",
      "south valley us\n"
     ]
    }
   ],
   "source": [
    "# Unzip the lats_lngs and put it in a list. Find nearest city name and city code using citipy.\n",
    "coordinates = list(lats_lngs)\n",
    "\n",
    "for coordinate in coordinates:\n",
    "    city = citipy.nearest_city(coordinate[0], coordinate[1]).city_name\n",
    "    code = citipy.nearest_city(coordinate[0], coordinate[1]).country_code\n",
    "    print(city, code)"
   ]
  },
  {
   "cell_type": "code",
   "execution_count": 99,
   "id": "62703e63",
   "metadata": {},
   "outputs": [
    {
     "name": "stdout",
     "output_type": "stream",
     "text": [
      "http://api.openweathermap.org/data/2.5/weather?units=Imperial&APPID=94dc4349f356fcbb44f9fec57429bdd1\n"
     ]
    }
   ],
   "source": [
    "# Import the requests library\n",
    "import requests\n",
    "\n",
    "# Import the API key\n",
    "from config import weather_api_key\n",
    "\n",
    "# Starting URL for Weather Map API Call.\n",
    "url = \"http://api.openweathermap.org/data/2.5/weather?units=Imperial&APPID=\" + weather_api_key\n",
    "print(url)"
   ]
  },
  {
   "cell_type": "code",
   "execution_count": 100,
   "id": "cbf56655",
   "metadata": {},
   "outputs": [
    {
     "name": "stdout",
     "output_type": "stream",
     "text": [
      "http://api.openweathermap.org/data/2.5/weather?units=Imperial&APPID=94dc4349f356fcbb44f9fec57429bdd1&q=Boston\n"
     ]
    }
   ],
   "source": [
    "city_url = url + \"&q=\" + \"Boston\"\n",
    "print(city_url)"
   ]
  },
  {
   "cell_type": "code",
   "execution_count": 101,
   "id": "9a9558ea",
   "metadata": {},
   "outputs": [
    {
     "name": "stdout",
     "output_type": "stream",
     "text": [
      "City weather data found\n"
     ]
    }
   ],
   "source": [
    "# Make a 'Get' request for the city weather.\n",
    "city_weather = requests.get(city_url)\n",
    "\n",
    "if city_weather.status_code == 200:\n",
    "    print(f\"City weather data found\")\n",
    "else:\n",
    "    print(f\"City weather data not found!\")\n"
   ]
  },
  {
   "cell_type": "code",
   "execution_count": 102,
   "id": "c1d5f543",
   "metadata": {},
   "outputs": [],
   "source": [
    "# Get the JSON text of the 'Get' request.\n",
    "city_json = city_weather.json()\n"
   ]
  },
  {
   "cell_type": "code",
   "execution_count": 103,
   "id": "6d359dfa",
   "metadata": {},
   "outputs": [
    {
     "data": {
      "text/plain": [
       "'US'"
      ]
     },
     "execution_count": 103,
     "metadata": {},
     "output_type": "execute_result"
    }
   ],
   "source": [
    "# Get the sys key\n",
    "city_json[\"sys\"][\"country\"]"
   ]
  },
  {
   "cell_type": "code",
   "execution_count": 104,
   "id": "1f42534e",
   "metadata": {},
   "outputs": [
    {
     "data": {
      "text/plain": [
       "1663048915"
      ]
     },
     "execution_count": 104,
     "metadata": {},
     "output_type": "execute_result"
    }
   ],
   "source": [
    "# Get the date\n",
    "city_json[\"dt\"]"
   ]
  },
  {
   "cell_type": "code",
   "execution_count": 105,
   "id": "51202a10",
   "metadata": {},
   "outputs": [
    {
     "data": {
      "text/plain": [
       "42.3584"
      ]
     },
     "execution_count": 105,
     "metadata": {},
     "output_type": "execute_result"
    }
   ],
   "source": [
    "# Get the latitude\n",
    "city_json[\"coord\"][\"lat\"]"
   ]
  },
  {
   "cell_type": "code",
   "execution_count": 106,
   "id": "c555ce32",
   "metadata": {},
   "outputs": [
    {
     "data": {
      "text/plain": [
       "71.08"
      ]
     },
     "execution_count": 106,
     "metadata": {},
     "output_type": "execute_result"
    }
   ],
   "source": [
    "# Get the maximum temperature\n",
    "city_json[\"main\"][\"temp_max\"]"
   ]
  },
  {
   "cell_type": "code",
   "execution_count": 107,
   "id": "f829c3ea",
   "metadata": {},
   "outputs": [
    {
     "name": "stdout",
     "output_type": "stream",
     "text": [
      "42.3584 -71.0598 71.08 91 75 4.61\n"
     ]
    }
   ],
   "source": [
    "# We can get the latitude,longitude,maximum temperature,humidity,percent cloudiness,wind speed.\n",
    "\n",
    "lat = city_json[\"coord\"][\"lat\"]\n",
    "lng = city_json[\"coord\"][\"lon\"]\n",
    "max_temp = city_json[\"main\"][\"temp_max\"]\n",
    "humidity = city_json[\"main\"][\"humidity\"]\n",
    "clouds = city_json[\"clouds\"][\"all\"]\n",
    "wind = city_json[\"wind\"][\"speed\"]\n",
    "print(lat, lng, max_temp, humidity, clouds, wind)"
   ]
  },
  {
   "cell_type": "code",
   "execution_count": 108,
   "id": "7e9c68fd",
   "metadata": {},
   "outputs": [
    {
     "data": {
      "text/plain": [
       "datetime.datetime(2022, 9, 13, 6, 1, 55)"
      ]
     },
     "execution_count": 108,
     "metadata": {},
     "output_type": "execute_result"
    }
   ],
   "source": [
    "# Import the datetime module from the datetime library.\n",
    "from datetime import datetime\n",
    "\n",
    "# Get the date from city_json.\n",
    "date = city_json[\"dt\"]\n",
    "\n",
    "# Convert the UTC date to a date format with year, month, day, hours, minutes, and seconds.\n",
    "datetime.utcfromtimestamp(date)"
   ]
  },
  {
   "cell_type": "code",
   "execution_count": 109,
   "id": "0997de58",
   "metadata": {},
   "outputs": [
    {
     "data": {
      "text/plain": [
       "'2022-09-13 06:01:55'"
      ]
     },
     "execution_count": 109,
     "metadata": {},
     "output_type": "execute_result"
    }
   ],
   "source": [
    "# Using the Python string format method strftime() and adding how we want the string to look inside the parentheses.\n",
    "datetime.utcfromtimestamp(date).strftime('%Y-%m-%d %H:%M:%S')"
   ]
  }
 ],
 "metadata": {
  "kernelspec": {
   "display_name": "PythonData",
   "language": "python",
   "name": "pythondata"
  },
  "language_info": {
   "codemirror_mode": {
    "name": "ipython",
    "version": 3
   },
   "file_extension": ".py",
   "mimetype": "text/x-python",
   "name": "python",
   "nbconvert_exporter": "python",
   "pygments_lexer": "ipython3",
   "version": "3.7.13"
  }
 },
 "nbformat": 4,
 "nbformat_minor": 5
}
