{
 "cells": [
  {
   "cell_type": "code",
   "execution_count": 3,
   "id": "012afbea",
   "metadata": {},
   "outputs": [],
   "source": [
    "# Use the citipy module to determine city based on latitude and longitude.\n",
    "from citipy import citipy\n",
    "import numpy as np"
   ]
  },
  {
   "cell_type": "code",
   "execution_count": 4,
   "id": "22e60c70",
   "metadata": {},
   "outputs": [
    {
     "data": {
      "text/plain": [
       "<zip at 0x225f3b14148>"
      ]
     },
     "execution_count": 4,
     "metadata": {},
     "output_type": "execute_result"
    }
   ],
   "source": [
    "# Generate random latitudes and longitudes\n",
    "lats = np.random.uniform(-90, 90, size=5)\n",
    "lngs = np.random.uniform(-180, 180, size=5)\n",
    "lats_lngs = zip(lats,lngs)\n",
    "lats_lngs"
   ]
  },
  {
   "cell_type": "code",
   "execution_count": 5,
   "id": "47fbfca8",
   "metadata": {},
   "outputs": [
    {
     "name": "stdout",
     "output_type": "stream",
     "text": [
      "ushuaia ar\n",
      "samarai pg\n",
      "saint george bm\n",
      "new norfolk au\n",
      "haverfordwest gb\n"
     ]
    }
   ],
   "source": [
    "# Unzip the lats_lngs and put it in a list. Find nearest city name and city code using citipy.\n",
    "coordinates = list(lats_lngs)\n",
    "\n",
    "for coordinate in coordinates:\n",
    "    city = citipy.nearest_city(coordinate[0], coordinate[1]).city_name\n",
    "    code = citipy.nearest_city(coordinate[0], coordinate[1]).country_code\n",
    "    print(city, code)"
   ]
  },
  {
   "cell_type": "code",
   "execution_count": null,
   "id": "62703e63",
   "metadata": {},
   "outputs": [],
   "source": []
  }
 ],
 "metadata": {
  "kernelspec": {
   "display_name": "PythonData",
   "language": "python",
   "name": "pythondata"
  },
  "language_info": {
   "codemirror_mode": {
    "name": "ipython",
    "version": 3
   },
   "file_extension": ".py",
   "mimetype": "text/x-python",
   "name": "python",
   "nbconvert_exporter": "python",
   "pygments_lexer": "ipython3",
   "version": "3.7.13"
  }
 },
 "nbformat": 4,
 "nbformat_minor": 5
}
