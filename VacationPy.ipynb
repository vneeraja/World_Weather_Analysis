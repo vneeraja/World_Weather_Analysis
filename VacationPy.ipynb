{
 "cells": [
  {
   "cell_type": "code",
   "execution_count": 2,
   "id": "fb517efb",
   "metadata": {},
   "outputs": [],
   "source": [
    "# Import dependencies\n",
    "import pandas as pd\n",
    "import requests\n",
    "import gmaps\n",
    "import json\n",
    "from config import g_key"
   ]
  },
  {
   "cell_type": "code",
   "execution_count": null,
   "id": "8ed594a2",
   "metadata": {},
   "outputs": [],
   "source": []
  },
  {
   "cell_type": "code",
   "execution_count": 3,
   "id": "85ba2477",
   "metadata": {
    "scrolled": true
   },
   "outputs": [
    {
     "data": {
      "text/html": [
       "<div>\n",
       "<style scoped>\n",
       "    .dataframe tbody tr th:only-of-type {\n",
       "        vertical-align: middle;\n",
       "    }\n",
       "\n",
       "    .dataframe tbody tr th {\n",
       "        vertical-align: top;\n",
       "    }\n",
       "\n",
       "    .dataframe thead th {\n",
       "        text-align: right;\n",
       "    }\n",
       "</style>\n",
       "<table border=\"1\" class=\"dataframe\">\n",
       "  <thead>\n",
       "    <tr style=\"text-align: right;\">\n",
       "      <th></th>\n",
       "      <th>City_ID</th>\n",
       "      <th>City</th>\n",
       "      <th>Country</th>\n",
       "      <th>Date</th>\n",
       "      <th>Latitude</th>\n",
       "      <th>Longitude</th>\n",
       "      <th>Max Temp</th>\n",
       "      <th>Humidity</th>\n",
       "      <th>Clouds</th>\n",
       "      <th>Wind</th>\n",
       "    </tr>\n",
       "  </thead>\n",
       "  <tbody>\n",
       "    <tr>\n",
       "      <th>0</th>\n",
       "      <td>0</td>\n",
       "      <td>Alofi</td>\n",
       "      <td>NU</td>\n",
       "      <td>2022-09-16 03:48:09</td>\n",
       "      <td>-19.0595</td>\n",
       "      <td>-169.9187</td>\n",
       "      <td>80.49</td>\n",
       "      <td>69</td>\n",
       "      <td>75</td>\n",
       "      <td>11.50</td>\n",
       "    </tr>\n",
       "    <tr>\n",
       "      <th>1</th>\n",
       "      <td>1</td>\n",
       "      <td>Hermanus</td>\n",
       "      <td>ZA</td>\n",
       "      <td>2022-09-16 03:48:09</td>\n",
       "      <td>-34.4187</td>\n",
       "      <td>19.2345</td>\n",
       "      <td>55.80</td>\n",
       "      <td>91</td>\n",
       "      <td>98</td>\n",
       "      <td>3.65</td>\n",
       "    </tr>\n",
       "    <tr>\n",
       "      <th>2</th>\n",
       "      <td>2</td>\n",
       "      <td>Sakakah</td>\n",
       "      <td>SA</td>\n",
       "      <td>2022-09-16 03:48:10</td>\n",
       "      <td>29.9697</td>\n",
       "      <td>40.2064</td>\n",
       "      <td>78.37</td>\n",
       "      <td>25</td>\n",
       "      <td>0</td>\n",
       "      <td>5.66</td>\n",
       "    </tr>\n",
       "    <tr>\n",
       "      <th>3</th>\n",
       "      <td>3</td>\n",
       "      <td>Lompoc</td>\n",
       "      <td>US</td>\n",
       "      <td>2022-09-16 03:46:27</td>\n",
       "      <td>34.6391</td>\n",
       "      <td>-120.4579</td>\n",
       "      <td>63.01</td>\n",
       "      <td>88</td>\n",
       "      <td>100</td>\n",
       "      <td>13.80</td>\n",
       "    </tr>\n",
       "    <tr>\n",
       "      <th>4</th>\n",
       "      <td>4</td>\n",
       "      <td>Punta Arenas</td>\n",
       "      <td>CL</td>\n",
       "      <td>2022-09-16 03:47:04</td>\n",
       "      <td>-53.1500</td>\n",
       "      <td>-70.9167</td>\n",
       "      <td>32.11</td>\n",
       "      <td>69</td>\n",
       "      <td>0</td>\n",
       "      <td>5.75</td>\n",
       "    </tr>\n",
       "  </tbody>\n",
       "</table>\n",
       "</div>"
      ],
      "text/plain": [
       "   City_ID          City Country                 Date  Latitude  Longitude  \\\n",
       "0        0         Alofi      NU  2022-09-16 03:48:09  -19.0595  -169.9187   \n",
       "1        1      Hermanus      ZA  2022-09-16 03:48:09  -34.4187    19.2345   \n",
       "2        2       Sakakah      SA  2022-09-16 03:48:10   29.9697    40.2064   \n",
       "3        3        Lompoc      US  2022-09-16 03:46:27   34.6391  -120.4579   \n",
       "4        4  Punta Arenas      CL  2022-09-16 03:47:04  -53.1500   -70.9167   \n",
       "\n",
       "   Max Temp  Humidity  Clouds   Wind  \n",
       "0     80.49        69      75  11.50  \n",
       "1     55.80        91      98   3.65  \n",
       "2     78.37        25       0   5.66  \n",
       "3     63.01        88     100  13.80  \n",
       "4     32.11        69       0   5.75  "
      ]
     },
     "execution_count": 3,
     "metadata": {},
     "output_type": "execute_result"
    }
   ],
   "source": [
    "file_to_load = pd.read_csv(\"weather_data/cities.csv\")\n",
    "city_data_df = pd.DataFrame(file_to_load)\n",
    "city_data_df.head()"
   ]
  },
  {
   "cell_type": "code",
   "execution_count": 4,
   "id": "f58ca165",
   "metadata": {
    "scrolled": true
   },
   "outputs": [
    {
     "data": {
      "text/plain": [
       "City_ID        int64\n",
       "City          object\n",
       "Country       object\n",
       "Date          object\n",
       "Latitude     float64\n",
       "Longitude    float64\n",
       "Max Temp     float64\n",
       "Humidity       int64\n",
       "Clouds         int64\n",
       "Wind         float64\n",
       "dtype: object"
      ]
     },
     "execution_count": 4,
     "metadata": {},
     "output_type": "execute_result"
    }
   ],
   "source": [
    "# One caveat to using gmaps: \n",
    "# The data we use for any mapping must be either an integer or a floating-point decimal number.\n",
    "# Check the dtypes of columns\n",
    "city_data_df.dtypes"
   ]
  },
  {
   "cell_type": "code",
   "execution_count": 5,
   "id": "0360eb2e",
   "metadata": {},
   "outputs": [],
   "source": [
    "# Configure gmaps to use your Google API key.\n",
    "gmaps.configure(api_key=g_key)"
   ]
  },
  {
   "cell_type": "code",
   "execution_count": 6,
   "id": "83fa0428",
   "metadata": {},
   "outputs": [
    {
     "name": "stdout",
     "output_type": "stream",
     "text": [
      "531\n",
      "531\n"
     ]
    },
    {
     "data": {
      "application/vnd.jupyter.widget-view+json": {
       "model_id": "d7b3ae3c7ab247058dd9ea8a4c83dda7",
       "version_major": 2,
       "version_minor": 0
      },
      "text/plain": [
       "Figure(layout=FigureLayout(height='420px'))"
      ]
     },
     "metadata": {},
     "output_type": "display_data"
    }
   ],
   "source": [
    "# 1. Assign the locations to an array of latitude and longitude pairs.\n",
    "locations = city_data_df[[\"Latitude\",\"Longitude\"]]\n",
    "print(len(locations))\n",
    "# 2. Assign the weights variable to some values.\n",
    "temperatures = city_data_df[\"Max Temp\"] # an array of length equal to the locations array length\n",
    "print(len(temperatures))\n",
    "# 3. Assign the figure variable to the gmaps.figure() attribute.\n",
    "fig = gmaps.figure()\n",
    "\n",
    "# 4. Assign the heatmap_layer variable to the heatmap_layer attribute and add in the locations.\n",
    "heatmap_layer = gmaps.heatmap_layer(locations, weights=temperatures)\n",
    "\n",
    "# 5. Add the heatmap layer.\n",
    "fig.add_layer(heatmap_layer)\n",
    "\n",
    "# 6. Call the figure to plot the data.\n",
    "fig"
   ]
  },
  {
   "cell_type": "markdown",
   "id": "dbf8c989",
   "metadata": {},
   "source": [
    "### Adjust Heatmap Zoom, Intensity, and Point Radius"
   ]
  },
  {
   "cell_type": "code",
   "execution_count": 7,
   "id": "0a739f9c",
   "metadata": {
    "scrolled": true
   },
   "outputs": [
    {
     "data": {
      "application/vnd.jupyter.widget-view+json": {
       "model_id": "afe59b160b3949eba3f68368984b7b71",
       "version_major": 2,
       "version_minor": 0
      },
      "text/plain": [
       "Figure(layout=FigureLayout(height='420px'))"
      ]
     },
     "metadata": {},
     "output_type": "display_data"
    }
   ],
   "source": [
    "# Add the geographic center of Earth in the form of latitude and longitude (30.0° N and 31.0° E). \n",
    "# Also, add a zoom level so that only one map of Earth is shown.\n",
    "fig = gmaps.figure(center=(30.0,31.0), zoom_level=1.5)\n",
    "\n",
    "# 4. Assign the heatmap_layer variable to the heatmap_layer attribute and add in the locations.\n",
    "heatmap_layer = gmaps.heatmap_layer(locations, weights=temperatures)\n",
    "\n",
    "# 5. Add the heatmap layer.\n",
    "fig.add_layer(heatmap_layer)\n",
    "\n",
    "# 6. Call the figure to plot the data.\n",
    "fig"
   ]
  },
  {
   "cell_type": "markdown",
   "id": "5fc710c5",
   "metadata": {},
   "source": [
    "### Create a Percent Humidity Heatmap"
   ]
  },
  {
   "cell_type": "code",
   "execution_count": 8,
   "id": "60aa85dd",
   "metadata": {},
   "outputs": [
    {
     "data": {
      "application/vnd.jupyter.widget-view+json": {
       "model_id": "9c616968a5204fe9b067bfbbf2e07aa6",
       "version_major": 2,
       "version_minor": 0
      },
      "text/plain": [
       "Figure(layout=FigureLayout(height='420px'))"
      ]
     },
     "metadata": {},
     "output_type": "display_data"
    }
   ],
   "source": [
    "# Heatmap of percent humidity\n",
    "locations = city_data_df[[\"Latitude\", \"Longitude\"]]\n",
    "humidity = city_data_df[\"Humidity\"]\n",
    "fig = gmaps.figure(center=(30.0, 31.0), zoom_level=1.5)\n",
    "heat_layer = gmaps.heatmap_layer(locations, weights=humidity, dissipating=False, max_intensity=300, point_radius=4)\n",
    "\n",
    "fig.add_layer(heat_layer)\n",
    "# Call the figure to plot the data.\n",
    "fig"
   ]
  },
  {
   "cell_type": "code",
   "execution_count": 9,
   "id": "77bf6850",
   "metadata": {
    "scrolled": true
   },
   "outputs": [
    {
     "data": {
      "application/vnd.jupyter.widget-view+json": {
       "model_id": "945c1950ba51431f9fd515ac16224b32",
       "version_major": 2,
       "version_minor": 0
      },
      "text/plain": [
       "Figure(layout=FigureLayout(height='420px'))"
      ]
     },
     "metadata": {},
     "output_type": "display_data"
    }
   ],
   "source": [
    "locations = city_data_df[[\"Latitude\",\"Longitude\"]]\n",
    "clouds = city_data_df[\"Clouds\"]\n",
    "fig = gmaps.figure(center=(30.0,31.0), zoom_level=1.5)\n",
    "heat_layer = gmaps.heatmap_layer(locations, weights=clouds)\n",
    "fig.add_layer(heat_layer)\n",
    "fig"
   ]
  },
  {
   "cell_type": "code",
   "execution_count": 10,
   "id": "6360082b",
   "metadata": {
    "scrolled": true
   },
   "outputs": [
    {
     "data": {
      "application/vnd.jupyter.widget-view+json": {
       "model_id": "1f844a39716f4923a94537c919d5f68e",
       "version_major": 2,
       "version_minor": 0
      },
      "text/plain": [
       "Figure(layout=FigureLayout(height='420px'))"
      ]
     },
     "metadata": {},
     "output_type": "display_data"
    }
   ],
   "source": [
    "locations = city_data_df[[\"Latitude\",\"Longitude\"]]\n",
    "wind_speed = city_data_df[\"Wind\"]\n",
    "fig = gmaps.figure(center=(30.0,31.0), zoom_level=1.5)\n",
    "heat_layer = gmaps.heatmap_layer(locations, weights=wind_speed)\n",
    "fig.add_layer(heat_layer)\n",
    "fig"
   ]
  },
  {
   "cell_type": "markdown",
   "id": "6a2b92f1",
   "metadata": {},
   "source": [
    "### Get Vacation Criteria by asking customer"
   ]
  },
  {
   "cell_type": "code",
   "execution_count": 24,
   "id": "78ef657c",
   "metadata": {},
   "outputs": [
    {
     "name": "stdout",
     "output_type": "stream",
     "text": [
      "What is the minimum temperature you would like for your trip ?35\n",
      "What is the maximum temperature you would like for your trip ?75\n"
     ]
    }
   ],
   "source": [
    "# Ask the customer to add a minimum and maximum temperature value.\n",
    "min_temp = float(input(\"What is the minimum temperature you would like for your trip ?\"))\n",
    "max_temp = float(input(\"What is the maximum temperature you would like for your trip ?\"))"
   ]
  },
  {
   "cell_type": "code",
   "execution_count": 25,
   "id": "e30269e0",
   "metadata": {},
   "outputs": [
    {
     "data": {
      "text/html": [
       "<div>\n",
       "<style scoped>\n",
       "    .dataframe tbody tr th:only-of-type {\n",
       "        vertical-align: middle;\n",
       "    }\n",
       "\n",
       "    .dataframe tbody tr th {\n",
       "        vertical-align: top;\n",
       "    }\n",
       "\n",
       "    .dataframe thead th {\n",
       "        text-align: right;\n",
       "    }\n",
       "</style>\n",
       "<table border=\"1\" class=\"dataframe\">\n",
       "  <thead>\n",
       "    <tr style=\"text-align: right;\">\n",
       "      <th></th>\n",
       "      <th>City_ID</th>\n",
       "      <th>City</th>\n",
       "      <th>Country</th>\n",
       "      <th>Date</th>\n",
       "      <th>Latitude</th>\n",
       "      <th>Longitude</th>\n",
       "      <th>Max Temp</th>\n",
       "      <th>Humidity</th>\n",
       "      <th>Clouds</th>\n",
       "      <th>Wind</th>\n",
       "    </tr>\n",
       "  </thead>\n",
       "  <tbody>\n",
       "    <tr>\n",
       "      <th>0</th>\n",
       "      <td>0</td>\n",
       "      <td>Alofi</td>\n",
       "      <td>NU</td>\n",
       "      <td>2022-09-16 03:48:09</td>\n",
       "      <td>-19.0595</td>\n",
       "      <td>-169.9187</td>\n",
       "      <td>80.49</td>\n",
       "      <td>69</td>\n",
       "      <td>75</td>\n",
       "      <td>11.50</td>\n",
       "    </tr>\n",
       "    <tr>\n",
       "      <th>1</th>\n",
       "      <td>1</td>\n",
       "      <td>Hermanus</td>\n",
       "      <td>ZA</td>\n",
       "      <td>2022-09-16 03:48:09</td>\n",
       "      <td>-34.4187</td>\n",
       "      <td>19.2345</td>\n",
       "      <td>55.80</td>\n",
       "      <td>91</td>\n",
       "      <td>98</td>\n",
       "      <td>3.65</td>\n",
       "    </tr>\n",
       "    <tr>\n",
       "      <th>2</th>\n",
       "      <td>2</td>\n",
       "      <td>Sakakah</td>\n",
       "      <td>SA</td>\n",
       "      <td>2022-09-16 03:48:10</td>\n",
       "      <td>29.9697</td>\n",
       "      <td>40.2064</td>\n",
       "      <td>78.37</td>\n",
       "      <td>25</td>\n",
       "      <td>0</td>\n",
       "      <td>5.66</td>\n",
       "    </tr>\n",
       "    <tr>\n",
       "      <th>3</th>\n",
       "      <td>3</td>\n",
       "      <td>Lompoc</td>\n",
       "      <td>US</td>\n",
       "      <td>2022-09-16 03:46:27</td>\n",
       "      <td>34.6391</td>\n",
       "      <td>-120.4579</td>\n",
       "      <td>63.01</td>\n",
       "      <td>88</td>\n",
       "      <td>100</td>\n",
       "      <td>13.80</td>\n",
       "    </tr>\n",
       "    <tr>\n",
       "      <th>4</th>\n",
       "      <td>4</td>\n",
       "      <td>Punta Arenas</td>\n",
       "      <td>CL</td>\n",
       "      <td>2022-09-16 03:47:04</td>\n",
       "      <td>-53.1500</td>\n",
       "      <td>-70.9167</td>\n",
       "      <td>32.11</td>\n",
       "      <td>69</td>\n",
       "      <td>0</td>\n",
       "      <td>5.75</td>\n",
       "    </tr>\n",
       "  </tbody>\n",
       "</table>\n",
       "</div>"
      ],
      "text/plain": [
       "   City_ID          City Country                 Date  Latitude  Longitude  \\\n",
       "0        0         Alofi      NU  2022-09-16 03:48:09  -19.0595  -169.9187   \n",
       "1        1      Hermanus      ZA  2022-09-16 03:48:09  -34.4187    19.2345   \n",
       "2        2       Sakakah      SA  2022-09-16 03:48:10   29.9697    40.2064   \n",
       "3        3        Lompoc      US  2022-09-16 03:46:27   34.6391  -120.4579   \n",
       "4        4  Punta Arenas      CL  2022-09-16 03:47:04  -53.1500   -70.9167   \n",
       "\n",
       "   Max Temp  Humidity  Clouds   Wind  \n",
       "0     80.49        69      75  11.50  \n",
       "1     55.80        91      98   3.65  \n",
       "2     78.37        25       0   5.66  \n",
       "3     63.01        88     100  13.80  \n",
       "4     32.11        69       0   5.75  "
      ]
     },
     "execution_count": 25,
     "metadata": {},
     "output_type": "execute_result"
    }
   ],
   "source": [
    "city_data_df.head()"
   ]
  },
  {
   "cell_type": "code",
   "execution_count": 26,
   "id": "f295c0af",
   "metadata": {
    "scrolled": false
   },
   "outputs": [
    {
     "data": {
      "text/plain": [
       "City_ID      361\n",
       "City         361\n",
       "Country      361\n",
       "Date         361\n",
       "Latitude     361\n",
       "Longitude    361\n",
       "Max Temp     361\n",
       "Humidity     361\n",
       "Clouds       361\n",
       "Wind         361\n",
       "dtype: int64"
      ]
     },
     "execution_count": 26,
     "metadata": {},
     "output_type": "execute_result"
    }
   ],
   "source": [
    "preferred_cities_df = city_data_df.loc[(city_data_df[\"Max Temp\"] <= max_temp) & (city_data_df[\"Max Temp\"] > min_temp)]\n",
    "\n",
    "# Drop the null values\n",
    "new_preferred_cities_df = preferred_cities_df.dropna()\n",
    "new_preferred_cities_df.count()"
   ]
  },
  {
   "cell_type": "markdown",
   "id": "613a8b37",
   "metadata": {},
   "source": [
    "### Get Travel Destinations"
   ]
  },
  {
   "cell_type": "code",
   "execution_count": 27,
   "id": "3fd6f3c7",
   "metadata": {
    "scrolled": true
   },
   "outputs": [],
   "source": [
    "# Create DataFrame hotel_df to store hotel names along with city, country, max temp, coordinates.\n",
    "hotel_df = new_preferred_cities_df[[\"City\",\"Country\",\"Max Temp\",\"Latitude\",\"Longitude\"]]"
   ]
  },
  {
   "cell_type": "code",
   "execution_count": 28,
   "id": "6dd3de8b",
   "metadata": {
    "scrolled": true
   },
   "outputs": [
    {
     "name": "stderr",
     "output_type": "stream",
     "text": [
      "C:\\Users\\neera\\anaconda3\\envs\\PythonData\\lib\\site-packages\\ipykernel_launcher.py:1: SettingWithCopyWarning: \n",
      "A value is trying to be set on a copy of a slice from a DataFrame.\n",
      "Try using .loc[row_indexer,col_indexer] = value instead\n",
      "\n",
      "See the caveats in the documentation: https://pandas.pydata.org/pandas-docs/stable/user_guide/indexing.html#returning-a-view-versus-a-copy\n",
      "  \"\"\"Entry point for launching an IPython kernel.\n"
     ]
    }
   ],
   "source": [
    "hotel_df[\"Hotel Name\"] = \"\""
   ]
  },
  {
   "cell_type": "code",
   "execution_count": 29,
   "id": "09cf74ff",
   "metadata": {
    "scrolled": true
   },
   "outputs": [
    {
     "data": {
      "text/html": [
       "<div>\n",
       "<style scoped>\n",
       "    .dataframe tbody tr th:only-of-type {\n",
       "        vertical-align: middle;\n",
       "    }\n",
       "\n",
       "    .dataframe tbody tr th {\n",
       "        vertical-align: top;\n",
       "    }\n",
       "\n",
       "    .dataframe thead th {\n",
       "        text-align: right;\n",
       "    }\n",
       "</style>\n",
       "<table border=\"1\" class=\"dataframe\">\n",
       "  <thead>\n",
       "    <tr style=\"text-align: right;\">\n",
       "      <th></th>\n",
       "      <th>City</th>\n",
       "      <th>Country</th>\n",
       "      <th>Max Temp</th>\n",
       "      <th>Latitude</th>\n",
       "      <th>Longitude</th>\n",
       "      <th>Hotel Name</th>\n",
       "    </tr>\n",
       "  </thead>\n",
       "  <tbody>\n",
       "    <tr>\n",
       "      <th>1</th>\n",
       "      <td>Hermanus</td>\n",
       "      <td>ZA</td>\n",
       "      <td>55.80</td>\n",
       "      <td>-34.4187</td>\n",
       "      <td>19.2345</td>\n",
       "      <td></td>\n",
       "    </tr>\n",
       "    <tr>\n",
       "      <th>3</th>\n",
       "      <td>Lompoc</td>\n",
       "      <td>US</td>\n",
       "      <td>63.01</td>\n",
       "      <td>34.6391</td>\n",
       "      <td>-120.4579</td>\n",
       "      <td></td>\n",
       "    </tr>\n",
       "    <tr>\n",
       "      <th>5</th>\n",
       "      <td>Mahebourg</td>\n",
       "      <td>MU</td>\n",
       "      <td>73.26</td>\n",
       "      <td>-20.4081</td>\n",
       "      <td>57.7000</td>\n",
       "      <td></td>\n",
       "    </tr>\n",
       "    <tr>\n",
       "      <th>6</th>\n",
       "      <td>Urusha</td>\n",
       "      <td>RU</td>\n",
       "      <td>54.28</td>\n",
       "      <td>54.0500</td>\n",
       "      <td>122.9000</td>\n",
       "      <td></td>\n",
       "    </tr>\n",
       "    <tr>\n",
       "      <th>7</th>\n",
       "      <td>Guerrero Negro</td>\n",
       "      <td>MX</td>\n",
       "      <td>70.05</td>\n",
       "      <td>27.9769</td>\n",
       "      <td>-114.0611</td>\n",
       "      <td></td>\n",
       "    </tr>\n",
       "  </tbody>\n",
       "</table>\n",
       "</div>"
      ],
      "text/plain": [
       "             City Country  Max Temp  Latitude  Longitude Hotel Name\n",
       "1        Hermanus      ZA     55.80  -34.4187    19.2345           \n",
       "3          Lompoc      US     63.01   34.6391  -120.4579           \n",
       "5       Mahebourg      MU     73.26  -20.4081    57.7000           \n",
       "6          Urusha      RU     54.28   54.0500   122.9000           \n",
       "7  Guerrero Negro      MX     70.05   27.9769  -114.0611           "
      ]
     },
     "execution_count": 29,
     "metadata": {},
     "output_type": "execute_result"
    }
   ],
   "source": [
    "hotel_df.head()"
   ]
  },
  {
   "cell_type": "markdown",
   "id": "54783e16",
   "metadata": {},
   "source": [
    "### Retrieve Hotels from a Nearby Search"
   ]
  },
  {
   "cell_type": "code",
   "execution_count": 30,
   "id": "46374327",
   "metadata": {},
   "outputs": [
    {
     "name": "stderr",
     "output_type": "stream",
     "text": [
      "C:\\Users\\neera\\anaconda3\\envs\\PythonData\\lib\\site-packages\\pandas\\core\\indexing.py:1817: SettingWithCopyWarning: \n",
      "A value is trying to be set on a copy of a slice from a DataFrame.\n",
      "Try using .loc[row_indexer,col_indexer] = value instead\n",
      "\n",
      "See the caveats in the documentation: https://pandas.pydata.org/pandas-docs/stable/user_guide/indexing.html#returning-a-view-versus-a-copy\n",
      "  self._setitem_single_column(loc, value, pi)\n"
     ]
    },
    {
     "name": "stdout",
     "output_type": "stream",
     "text": [
      "Hotel Not Found....skipping\n",
      "Hotel Not Found....skipping\n",
      "Hotel Not Found....skipping\n",
      "Hotel Not Found....skipping\n",
      "Hotel Not Found....skipping\n",
      "Hotel Not Found....skipping\n",
      "Hotel Not Found....skipping\n",
      "Hotel Not Found....skipping\n",
      "Hotel Not Found....skipping\n",
      "Hotel Not Found....skipping\n",
      "Hotel Not Found....skipping\n",
      "Hotel Not Found....skipping\n",
      "Hotel Not Found....skipping\n",
      "Hotel Not Found....skipping\n",
      "Hotel Not Found....skipping\n",
      "Hotel Not Found....skipping\n",
      "Hotel Not Found....skipping\n",
      "Hotel Not Found....skipping\n",
      "Hotel Not Found....skipping\n",
      "Hotel Not Found....skipping\n",
      "Hotel Not Found....skipping\n",
      "Hotel Not Found....skipping\n",
      "Hotel Not Found....skipping\n",
      "Hotel Not Found....skipping\n",
      "Hotel Not Found....skipping\n",
      "Hotel Not Found....skipping\n",
      "Hotel Not Found....skipping\n",
      "Hotel Not Found....skipping\n",
      "Hotel Not Found....skipping\n",
      "Hotel Not Found....skipping\n",
      "Hotel Not Found....skipping\n",
      "Hotel Not Found....skipping\n",
      "Hotel Not Found....skipping\n",
      "Hotel Not Found....skipping\n",
      "Hotel Not Found....skipping\n",
      "Hotel Not Found....skipping\n",
      "Hotel Not Found....skipping\n",
      "Hotel Not Found....skipping\n",
      "Hotel Not Found....skipping\n",
      "Hotel Not Found....skipping\n"
     ]
    },
    {
     "data": {
      "text/html": [
       "<div>\n",
       "<style scoped>\n",
       "    .dataframe tbody tr th:only-of-type {\n",
       "        vertical-align: middle;\n",
       "    }\n",
       "\n",
       "    .dataframe tbody tr th {\n",
       "        vertical-align: top;\n",
       "    }\n",
       "\n",
       "    .dataframe thead th {\n",
       "        text-align: right;\n",
       "    }\n",
       "</style>\n",
       "<table border=\"1\" class=\"dataframe\">\n",
       "  <thead>\n",
       "    <tr style=\"text-align: right;\">\n",
       "      <th></th>\n",
       "      <th>City</th>\n",
       "      <th>Country</th>\n",
       "      <th>Max Temp</th>\n",
       "      <th>Latitude</th>\n",
       "      <th>Longitude</th>\n",
       "      <th>Hotel Name</th>\n",
       "    </tr>\n",
       "  </thead>\n",
       "  <tbody>\n",
       "    <tr>\n",
       "      <th>1</th>\n",
       "      <td>Hermanus</td>\n",
       "      <td>ZA</td>\n",
       "      <td>55.80</td>\n",
       "      <td>-34.4187</td>\n",
       "      <td>19.2345</td>\n",
       "      <td>Misty Waves Boutique Hotel</td>\n",
       "    </tr>\n",
       "    <tr>\n",
       "      <th>3</th>\n",
       "      <td>Lompoc</td>\n",
       "      <td>US</td>\n",
       "      <td>63.01</td>\n",
       "      <td>34.6391</td>\n",
       "      <td>-120.4579</td>\n",
       "      <td>Holiday Inn Express Lompoc, an IHG Hotel</td>\n",
       "    </tr>\n",
       "    <tr>\n",
       "      <th>5</th>\n",
       "      <td>Mahebourg</td>\n",
       "      <td>MU</td>\n",
       "      <td>73.26</td>\n",
       "      <td>-20.4081</td>\n",
       "      <td>57.7000</td>\n",
       "      <td>Shandrani Beachcomber Resort &amp; Spa</td>\n",
       "    </tr>\n",
       "    <tr>\n",
       "      <th>6</th>\n",
       "      <td>Urusha</td>\n",
       "      <td>RU</td>\n",
       "      <td>54.28</td>\n",
       "      <td>54.0500</td>\n",
       "      <td>122.9000</td>\n",
       "      <td>Dom Otdykha Lokomotivnykh Brigad</td>\n",
       "    </tr>\n",
       "    <tr>\n",
       "      <th>7</th>\n",
       "      <td>Guerrero Negro</td>\n",
       "      <td>MX</td>\n",
       "      <td>70.05</td>\n",
       "      <td>27.9769</td>\n",
       "      <td>-114.0611</td>\n",
       "      <td>Casa Laguna, Bed &amp; Breakfast</td>\n",
       "    </tr>\n",
       "  </tbody>\n",
       "</table>\n",
       "</div>"
      ],
      "text/plain": [
       "             City Country  Max Temp  Latitude  Longitude  \\\n",
       "1        Hermanus      ZA     55.80  -34.4187    19.2345   \n",
       "3          Lompoc      US     63.01   34.6391  -120.4579   \n",
       "5       Mahebourg      MU     73.26  -20.4081    57.7000   \n",
       "6          Urusha      RU     54.28   54.0500   122.9000   \n",
       "7  Guerrero Negro      MX     70.05   27.9769  -114.0611   \n",
       "\n",
       "                                 Hotel Name  \n",
       "1                Misty Waves Boutique Hotel  \n",
       "3  Holiday Inn Express Lompoc, an IHG Hotel  \n",
       "5        Shandrani Beachcomber Resort & Spa  \n",
       "6          Dom Otdykha Lokomotivnykh Brigad  \n",
       "7              Casa Laguna, Bed & Breakfast  "
      ]
     },
     "execution_count": 30,
     "metadata": {},
     "output_type": "execute_result"
    }
   ],
   "source": [
    "# Using Google Places API\n",
    "\n",
    "# Iterate through the DataFrame.\n",
    "for index, row in hotel_df.iterrows():\n",
    "    # Get the latitude and longitude.\n",
    "    lat = row[\"Latitude\"]\n",
    "    lng = row[\"Longitude\"]\n",
    "\n",
    "    # Add the latitude and longitude to location key for the params dictionary.\n",
    "    location = f\"{lat},{lng}\"\n",
    "\n",
    "    # Use the search term: \"lodging\" and our latitude and longitude.\n",
    "    base_url = \"https://maps.googleapis.com/maps/api/place/nearbysearch/json?\"\n",
    "    params = {\"radius\": 5000,\n",
    "        \"types\": \"lodging\",\n",
    "        \"location\" : location,\n",
    "        \"key\": g_key}\n",
    "\n",
    "    # Make request and get the JSON data from the search.\n",
    "    hotels = requests.get(base_url, params=params).json()\n",
    "\n",
    "    try:\n",
    "        hotel_df.loc[index, \"Hotel Name\"] = hotels[\"results\"][0][\"name\"]\n",
    "        #print(result)\n",
    "    except (IndexError):\n",
    "        print(\"Hotel Not Found....skipping\")\n",
    "\n",
    "hotel_df.head()"
   ]
  },
  {
   "cell_type": "code",
   "execution_count": 34,
   "id": "236c4ebc",
   "metadata": {},
   "outputs": [
    {
     "data": {
      "text/html": [
       "<div>\n",
       "<style scoped>\n",
       "    .dataframe tbody tr th:only-of-type {\n",
       "        vertical-align: middle;\n",
       "    }\n",
       "\n",
       "    .dataframe tbody tr th {\n",
       "        vertical-align: top;\n",
       "    }\n",
       "\n",
       "    .dataframe thead th {\n",
       "        text-align: right;\n",
       "    }\n",
       "</style>\n",
       "<table border=\"1\" class=\"dataframe\">\n",
       "  <thead>\n",
       "    <tr style=\"text-align: right;\">\n",
       "      <th></th>\n",
       "      <th>City</th>\n",
       "      <th>Country</th>\n",
       "      <th>Max Temp</th>\n",
       "      <th>Latitude</th>\n",
       "      <th>Longitude</th>\n",
       "      <th>Hotel Name</th>\n",
       "    </tr>\n",
       "  </thead>\n",
       "  <tbody>\n",
       "    <tr>\n",
       "      <th>1</th>\n",
       "      <td>Hermanus</td>\n",
       "      <td>ZA</td>\n",
       "      <td>55.80</td>\n",
       "      <td>-34.4187</td>\n",
       "      <td>19.2345</td>\n",
       "      <td>Misty Waves Boutique Hotel</td>\n",
       "    </tr>\n",
       "    <tr>\n",
       "      <th>3</th>\n",
       "      <td>Lompoc</td>\n",
       "      <td>US</td>\n",
       "      <td>63.01</td>\n",
       "      <td>34.6391</td>\n",
       "      <td>-120.4579</td>\n",
       "      <td>Holiday Inn Express Lompoc, an IHG Hotel</td>\n",
       "    </tr>\n",
       "    <tr>\n",
       "      <th>5</th>\n",
       "      <td>Mahebourg</td>\n",
       "      <td>MU</td>\n",
       "      <td>73.26</td>\n",
       "      <td>-20.4081</td>\n",
       "      <td>57.7000</td>\n",
       "      <td>Shandrani Beachcomber Resort &amp; Spa</td>\n",
       "    </tr>\n",
       "    <tr>\n",
       "      <th>6</th>\n",
       "      <td>Urusha</td>\n",
       "      <td>RU</td>\n",
       "      <td>54.28</td>\n",
       "      <td>54.0500</td>\n",
       "      <td>122.9000</td>\n",
       "      <td>Dom Otdykha Lokomotivnykh Brigad</td>\n",
       "    </tr>\n",
       "    <tr>\n",
       "      <th>7</th>\n",
       "      <td>Guerrero Negro</td>\n",
       "      <td>MX</td>\n",
       "      <td>70.05</td>\n",
       "      <td>27.9769</td>\n",
       "      <td>-114.0611</td>\n",
       "      <td>Casa Laguna, Bed &amp; Breakfast</td>\n",
       "    </tr>\n",
       "    <tr>\n",
       "      <th>...</th>\n",
       "      <td>...</td>\n",
       "      <td>...</td>\n",
       "      <td>...</td>\n",
       "      <td>...</td>\n",
       "      <td>...</td>\n",
       "      <td>...</td>\n",
       "    </tr>\n",
       "    <tr>\n",
       "      <th>523</th>\n",
       "      <td>Maarianhamina</td>\n",
       "      <td>AX</td>\n",
       "      <td>46.26</td>\n",
       "      <td>60.0973</td>\n",
       "      <td>19.9348</td>\n",
       "      <td>Park Alandia Hotel</td>\n",
       "    </tr>\n",
       "    <tr>\n",
       "      <th>524</th>\n",
       "      <td>Tuatapere</td>\n",
       "      <td>NZ</td>\n",
       "      <td>48.04</td>\n",
       "      <td>-46.1333</td>\n",
       "      <td>167.6833</td>\n",
       "      <td>Ron and Tony's Bed &amp; Breakfast</td>\n",
       "    </tr>\n",
       "    <tr>\n",
       "      <th>525</th>\n",
       "      <td>Ajdabiya</td>\n",
       "      <td>LY</td>\n",
       "      <td>71.83</td>\n",
       "      <td>30.7554</td>\n",
       "      <td>20.2263</td>\n",
       "      <td>منزلة الحاج سالم خليفة العيساويه الزواوي</td>\n",
       "    </tr>\n",
       "    <tr>\n",
       "      <th>529</th>\n",
       "      <td>Bulgan</td>\n",
       "      <td>MN</td>\n",
       "      <td>37.45</td>\n",
       "      <td>48.8125</td>\n",
       "      <td>103.5347</td>\n",
       "      <td>Unitel Булган салбар</td>\n",
       "    </tr>\n",
       "    <tr>\n",
       "      <th>530</th>\n",
       "      <td>Inirida</td>\n",
       "      <td>CO</td>\n",
       "      <td>74.43</td>\n",
       "      <td>3.8653</td>\n",
       "      <td>-67.9239</td>\n",
       "      <td>Fuente del Guania Hotel de Lujo</td>\n",
       "    </tr>\n",
       "  </tbody>\n",
       "</table>\n",
       "<p>361 rows × 6 columns</p>\n",
       "</div>"
      ],
      "text/plain": [
       "               City Country  Max Temp  Latitude  Longitude  \\\n",
       "1          Hermanus      ZA     55.80  -34.4187    19.2345   \n",
       "3            Lompoc      US     63.01   34.6391  -120.4579   \n",
       "5         Mahebourg      MU     73.26  -20.4081    57.7000   \n",
       "6            Urusha      RU     54.28   54.0500   122.9000   \n",
       "7    Guerrero Negro      MX     70.05   27.9769  -114.0611   \n",
       "..              ...     ...       ...       ...        ...   \n",
       "523   Maarianhamina      AX     46.26   60.0973    19.9348   \n",
       "524       Tuatapere      NZ     48.04  -46.1333   167.6833   \n",
       "525        Ajdabiya      LY     71.83   30.7554    20.2263   \n",
       "529          Bulgan      MN     37.45   48.8125   103.5347   \n",
       "530         Inirida      CO     74.43    3.8653   -67.9239   \n",
       "\n",
       "                                   Hotel Name  \n",
       "1                  Misty Waves Boutique Hotel  \n",
       "3    Holiday Inn Express Lompoc, an IHG Hotel  \n",
       "5          Shandrani Beachcomber Resort & Spa  \n",
       "6            Dom Otdykha Lokomotivnykh Brigad  \n",
       "7                Casa Laguna, Bed & Breakfast  \n",
       "..                                        ...  \n",
       "523                        Park Alandia Hotel  \n",
       "524            Ron and Tony's Bed & Breakfast  \n",
       "525  منزلة الحاج سالم خليفة العيساويه الزواوي  \n",
       "529                      Unitel Булган салбар  \n",
       "530           Fuente del Guania Hotel de Lujo  \n",
       "\n",
       "[361 rows x 6 columns]"
      ]
     },
     "execution_count": 34,
     "metadata": {},
     "output_type": "execute_result"
    }
   ],
   "source": [
    "hotel_df"
   ]
  },
  {
   "cell_type": "markdown",
   "id": "eecbf2ca",
   "metadata": {},
   "source": [
    "### Create a Maximum Temperature Heatmap from a Hotel DataFrame"
   ]
  },
  {
   "cell_type": "code",
   "execution_count": 41,
   "id": "1c27df62",
   "metadata": {},
   "outputs": [
    {
     "data": {
      "application/vnd.jupyter.widget-view+json": {
       "model_id": "cd64d4ec6cd94c51863f84d73e4b0356",
       "version_major": 2,
       "version_minor": 0
      },
      "text/plain": [
       "Figure(layout=FigureLayout(height='420px'))"
      ]
     },
     "metadata": {},
     "output_type": "display_data"
    }
   ],
   "source": [
    "locations = hotel_df[[\"Latitude\",\"Longitude\"]]\n",
    "temperatures = hotel_df[\"Max Temp\"]\n",
    "\n",
    "gmaps.configure(api_key=g_key)\n",
    "\n",
    "fig = gmaps.figure(center=(30.0,31.0), zoom_level=2)\n",
    "\n",
    "# Add popup marker for the city\n",
    "info_box_template = \"\"\"\n",
    "                    <dl>\n",
    "                        <dt>Hotel Name</dt><dd>{Hotel Name}</dd>\n",
    "                        <dt>City</dt><dd>{City}</dd>\n",
    "                        <dt>Country</dt><dd>{Country}</dd>\n",
    "                        <dt>Max Temp</dt><dd>{Max Temp}</dd>\n",
    "                    </dl>\n",
    "\"\"\"\n",
    "\n",
    "info_box_content = [info_box_template.format(**row) for index,row in hotel_df.iterrows()]\n",
    "\n",
    "heat_layer = gmaps.heatmap_layer(locations, weights=temperatures, \n",
    "                                 dissipating=False, max_intensity=300, point_radius=4)\n",
    "marker_layer = gmaps.marker_layer(locations, info_box_content=info_box_content)\n",
    "\n",
    "fig.add_layer(heat_layer)\n",
    "fig.add_layer(marker_layer)\n",
    "\n",
    "fig"
   ]
  },
  {
   "cell_type": "code",
   "execution_count": null,
   "id": "075c1df9",
   "metadata": {},
   "outputs": [],
   "source": []
  }
 ],
 "metadata": {
  "kernelspec": {
   "display_name": "PythonData",
   "language": "python",
   "name": "pythondata"
  },
  "language_info": {
   "codemirror_mode": {
    "name": "ipython",
    "version": 3
   },
   "file_extension": ".py",
   "mimetype": "text/x-python",
   "name": "python",
   "nbconvert_exporter": "python",
   "pygments_lexer": "ipython3",
   "version": "3.7.13"
  }
 },
 "nbformat": 4,
 "nbformat_minor": 5
}
